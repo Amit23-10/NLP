{
 "cells": [
  {
   "cell_type": "code",
   "execution_count": 14,
   "id": "c8f7a79d",
   "metadata": {},
   "outputs": [],
   "source": [
    "import numpy as np # linear algebra\n",
    "import pandas as pd # data processing, CSV file I/O (e.g. pd.read_csv)"
   ]
  },
  {
   "cell_type": "code",
   "execution_count": 15,
   "id": "d0624e05",
   "metadata": {},
   "outputs": [],
   "source": [
    "import re\n",
    "import nltk\n",
    "from nltk.corpus import stopwords\n",
    "\n",
    "from numpy import array\n",
    "from keras.preprocessing.text import one_hot\n",
    "from tensorflow.keras.preprocessing.sequence import pad_sequences\n",
    "from keras.models import Sequential\n",
    "from keras.layers.core import Activation, Dropout, Dense\n",
    "from keras.layers import Flatten, GlobalMaxPooling1D\n",
    "# from keras.layers.embeddings import Embedding\n",
    "from sklearn.model_selection import train_test_split\n",
    "import tensorflow as tf\n",
    "from tensorflow.keras.preprocessing.text import Tokenizer"
   ]
  },
  {
   "cell_type": "code",
   "execution_count": 16,
   "id": "f511a48a",
   "metadata": {},
   "outputs": [
    {
     "data": {
      "text/plain": [
       "(11807, 2)"
      ]
     },
     "execution_count": 16,
     "metadata": {},
     "output_type": "execute_result"
    }
   ],
   "source": [
    "reviews = pd.read_csv(\"D:\\\\archive_19\\\\Bengali Review Dataset.csv\")\n",
    "\n",
    "reviews.shape"
   ]
  },
  {
   "cell_type": "code",
   "execution_count": 17,
   "id": "c546999b",
   "metadata": {},
   "outputs": [
    {
     "data": {
      "text/html": [
       "<div>\n",
       "<style scoped>\n",
       "    .dataframe tbody tr th:only-of-type {\n",
       "        vertical-align: middle;\n",
       "    }\n",
       "\n",
       "    .dataframe tbody tr th {\n",
       "        vertical-align: top;\n",
       "    }\n",
       "\n",
       "    .dataframe thead th {\n",
       "        text-align: right;\n",
       "    }\n",
       "</style>\n",
       "<table border=\"1\" class=\"dataframe\">\n",
       "  <thead>\n",
       "    <tr style=\"text-align: right;\">\n",
       "      <th></th>\n",
       "      <th>Reviews</th>\n",
       "      <th>Sentiment</th>\n",
       "    </tr>\n",
       "  </thead>\n",
       "  <tbody>\n",
       "    <tr>\n",
       "      <th>0</th>\n",
       "      <td>অসাধারণ নিশো বস্ আর অমি ভাইকেও।</td>\n",
       "      <td>positive</td>\n",
       "    </tr>\n",
       "    <tr>\n",
       "      <th>1</th>\n",
       "      <td>\"এত মোটা বাশ নিতে পারছি না বাবা \"</td>\n",
       "      <td>negative</td>\n",
       "    </tr>\n",
       "    <tr>\n",
       "      <th>2</th>\n",
       "      <td>নাটক আসলেই অসাধারণ</td>\n",
       "      <td>positive</td>\n",
       "    </tr>\n",
       "    <tr>\n",
       "      <th>3</th>\n",
       "      <td>ফালতু একটা নাটক</td>\n",
       "      <td>negative</td>\n",
       "    </tr>\n",
       "    <tr>\n",
       "      <th>4</th>\n",
       "      <td>ধুমপান সাস্থর জন্য ক্ষতিকর।</td>\n",
       "      <td>negative</td>\n",
       "    </tr>\n",
       "  </tbody>\n",
       "</table>\n",
       "</div>"
      ],
      "text/plain": [
       "                              Reviews Sentiment\n",
       "0     অসাধারণ নিশো বস্ আর অমি ভাইকেও।  positive\n",
       "1   \"এত মোটা বাশ নিতে পারছি না বাবা \"  negative\n",
       "2                  নাটক আসলেই অসাধারণ  positive\n",
       "3                     ফালতু একটা নাটক  negative\n",
       "4         ধুমপান সাস্থর জন্য ক্ষতিকর।  negative"
      ]
     },
     "execution_count": 17,
     "metadata": {},
     "output_type": "execute_result"
    }
   ],
   "source": [
    "reviews.head()"
   ]
  },
  {
   "cell_type": "code",
   "execution_count": 18,
   "id": "e3d34039",
   "metadata": {},
   "outputs": [
    {
     "data": {
      "text/plain": [
       "<AxesSubplot:xlabel='Sentiment', ylabel='count'>"
      ]
     },
     "execution_count": 18,
     "metadata": {},
     "output_type": "execute_result"
    },
    {
     "data": {
      "image/png": "[encoded data removed]",
      "text/plain": [
       "<Figure size 432x288 with 1 Axes>"
      ]
     },
     "metadata": {
      "needs_background": "light"
     },
     "output_type": "display_data"
    }
   ],
   "source": [
    "import seaborn as sns\n",
    "sns.countplot(x = 'Sentiment', data = reviews)"
   ]
  },
  {
   "cell_type": "code",
   "execution_count": 20,
   "id": "449595f1",
   "metadata": {},
   "outputs": [],
   "source": [
    "X = reviews['Reviews'].to_numpy()"
   ]
  },
  {
   "cell_type": "code",
   "execution_count": 21,
   "id": "847224fb",
   "metadata": {},
   "outputs": [
    {
     "data": {
      "text/plain": [
       "array([' অসাধারণ নিশো বস্ আর অমি ভাইকেও।',\n",
       "       ' \"এত মোটা বাশ নিতে পারছি না বাবা \"', ' নাটক আসলেই অসাধারণ', ...,\n",
       "       ' ভাই আপনাদের এত স্পন্সর দরকার তাহলে Youtube নাটক দিছেন কেন ? নাটক ভালো ছিল But দেখে শান্তি পাইলাম না',\n",
       "       'এগুলো কি নাটক না কি', ' অনেক বেশি ভালো লাগল'], dtype=object)"
      ]
     },
     "execution_count": 21,
     "metadata": {},
     "output_type": "execute_result"
    }
   ],
   "source": [
    "X"
   ]
  },
  {
   "cell_type": "code",
   "execution_count": 22,
   "id": "a3b96bbb",
   "metadata": {},
   "outputs": [],
   "source": [
    "y = np.array(list(map(lambda x: 1 if x == \"positive\" else 0, reviews['Sentiment'])))"
   ]
  },
  {
   "cell_type": "code",
   "execution_count": 23,
   "id": "a055787c",
   "metadata": {},
   "outputs": [
    {
     "data": {
      "text/plain": [
       "array([1, 0, 1, ..., 1, 0, 1])"
      ]
     },
     "execution_count": 23,
     "metadata": {},
     "output_type": "execute_result"
    }
   ],
   "source": [
    "y"
   ]
  },
  {
   "cell_type": "code",
   "execution_count": 24,
   "id": "2c4cdbb7",
   "metadata": {},
   "outputs": [],
   "source": [
    "X_train, X_test, y_train, y_test = train_test_split(X, y,test_size = 0.10, random_state = 42)"
   ]
  },
  {
   "cell_type": "code",
   "execution_count": 25,
   "id": "a017bcf8",
   "metadata": {},
   "outputs": [],
   "source": [
    "vocab_size = 10000\n",
    "embedding_dim = 16\n",
    "max_length = 120\n",
    "trunc_type = 'post'\n",
    "oov_tok = '<OOV>'\n",
    "padding_type = 'post'"
   ]
  },
  {
   "cell_type": "code",
   "execution_count": 26,
   "id": "cbd0034e",
   "metadata": {},
   "outputs": [],
   "source": [
    "tokenizer = Tokenizer(num_words=vocab_size)\n",
    "tokenizer.fit_on_texts(X_train)\n",
    "word_index = tokenizer.word_index"
   ]
  },
  {
   "cell_type": "code",
   "execution_count": 28,
   "id": "21ea654b",
   "metadata": {},
   "outputs": [],
   "source": [
    "sequences = tokenizer.texts_to_sequences(X_train)\n",
    "padded = pad_sequences(sequences, maxlen=max_length, truncating=trunc_type)\n",
    "testing_sentences = tokenizer.texts_to_sequences(X_test)\n",
    "testing_padded = pad_sequences(testing_sentences, maxlen=max_length)"
   ]
  },
  {
   "cell_type": "code",
   "execution_count": 35,
   "id": "bfb55720",
   "metadata": {},
   "outputs": [],
   "source": [
    "from tensorflow.keras.optimizers import Adam\n",
    "from tensorflow.keras.models import Sequential\n",
    "from tensorflow.keras.callbacks import EarlyStopping\n",
    "from tensorflow.keras.layers import Dense, LSTM, Embedding, Dropout, Activation, Flatten, Input, concatenate, Conv1D, GlobalMaxPooling1D, MaxPooling1D,BatchNormalization"
   ]
  },
  {
   "cell_type": "code",
   "execution_count": 49,
   "id": "227082c1",
   "metadata": {},
   "outputs": [],
   "source": [
    "model = Sequential()\n",
    "model.add(Embedding(vocab_size, embedding_dim, input_length=max_length)),\n",
    "model.add(Conv1D(256,5,padding='valid',activation='relu',strides=1))\n",
    "model.add(MaxPooling1D(pool_size=2))\n",
    "model.add (BatchNormalization()),\n",
    "model.add (Dropout(0.3)),\n",
    "model.add(Conv1D(128, 5,padding='valid',activation='relu',strides=1))\n",
    "model.add(MaxPooling1D(pool_size=2))\n",
    "model.add (BatchNormalization()),\n",
    "model.add (Dropout(0.3)),\n",
    "model.add(LSTM(128))\n",
    "model.add (Dropout(0.3)),\n",
    "model.add(Dense(32))\n",
    "model.add (Dropout(0.3)),\n",
    "model.add(Dense(1))\n",
    "model.add(Activation('sigmoid'))"
   ]
  },
  {
   "cell_type": "code",
   "execution_count": 50,
   "id": "e83c5a33",
   "metadata": {},
   "outputs": [],
   "source": [
    "model.compile(loss='binary_crossentropy', optimizer='adam', metrics=['accuracy'])"
   ]
  },
  {
   "cell_type": "code",
   "execution_count": 51,
   "id": "a443ba35",
   "metadata": {},
   "outputs": [
    {
     "name": "stdout",
     "output_type": "stream",
     "text": [
      "Model: \"sequential_3\"\n",
      "_________________________________________________________________\n",
      " Layer (type)                Output Shape              Param #   \n",
      "=================================================================\n",
      " embedding_3 (Embedding)     (None, 120, 16)           160000    \n",
      "                                                                 \n",
      " conv1d_2 (Conv1D)           (None, 116, 256)          20736     \n",
      "                                                                 \n",
      " max_pooling1d_2 (MaxPooling  (None, 58, 256)          0         \n",
      " 1D)                                                             \n",
      "                                                                 \n",
      " batch_normalization_2 (Batc  (None, 58, 256)          1024      \n",
      " hNormalization)                                                 \n",
      "                                                                 \n",
      " dropout_9 (Dropout)         (None, 58, 256)           0         \n",
      "                                                                 \n",
      " conv1d_3 (Conv1D)           (None, 54, 128)           163968    \n",
      "                                                                 \n",
      " max_pooling1d_3 (MaxPooling  (None, 27, 128)          0         \n",
      " 1D)                                                             \n",
      "                                                                 \n",
      " batch_normalization_3 (Batc  (None, 27, 128)          512       \n",
      " hNormalization)                                                 \n",
      "                                                                 \n",
      " dropout_10 (Dropout)        (None, 27, 128)           0         \n",
      "                                                                 \n",
      " lstm_3 (LSTM)               (None, 128)               131584    \n",
      "                                                                 \n",
      " dropout_11 (Dropout)        (None, 128)               0         \n",
      "                                                                 \n",
      " dense_7 (Dense)             (None, 32)                4128      \n",
      "                                                                 \n",
      " dropout_12 (Dropout)        (None, 32)                0         \n",
      "                                                                 \n",
      " dense_8 (Dense)             (None, 1)                 33        \n",
      "                                                                 \n",
      " activation_2 (Activation)   (None, 1)                 0         \n",
      "                                                                 \n",
      "=================================================================\n",
      "Total params: 481,985\n",
      "Trainable params: 481,217\n",
      "Non-trainable params: 768\n",
      "_________________________________________________________________\n"
     ]
    }
   ],
   "source": [
    "model.summary()"
   ]
  },
  {
   "cell_type": "code",
   "execution_count": 52,
   "id": "a96c05b4",
   "metadata": {},
   "outputs": [],
   "source": [
    "training_labels_final = np.array(y_train)\n",
    "testing_labels_final = np.array(y_test)"
   ]
  },
  {
   "cell_type": "code",
   "execution_count": 53,
   "id": "76b24e0e",
   "metadata": {
    "scrolled": true
   },
   "outputs": [
    {
     "name": "stdout",
     "output_type": "stream",
     "text": [
      "Epoch 1/60\n",
      "333/333 [==============================] - 11s 29ms/step - loss: 0.3096 - accuracy: 0.8684 - val_loss: 0.3704 - val_accuracy: 0.8823\n",
      "Epoch 2/60\n",
      "333/333 [==============================] - 10s 29ms/step - loss: 0.1231 - accuracy: 0.9561 - val_loss: 0.1755 - val_accuracy: 0.9246\n",
      "Epoch 3/60\n",
      "333/333 [==============================] - 9s 28ms/step - loss: 0.0648 - accuracy: 0.9780 - val_loss: 0.2165 - val_accuracy: 0.9246\n",
      "Epoch 4/60\n",
      "333/333 [==============================] - 9s 28ms/step - loss: 0.0376 - accuracy: 0.9874 - val_loss: 0.3085 - val_accuracy: 0.9136\n",
      "Epoch 5/60\n",
      "333/333 [==============================] - 9s 28ms/step - loss: 0.0328 - accuracy: 0.9887 - val_loss: 0.2778 - val_accuracy: 0.9289\n",
      "Epoch 6/60\n",
      "333/333 [==============================] - 9s 28ms/step - loss: 0.0279 - accuracy: 0.9901 - val_loss: 0.2552 - val_accuracy: 0.9246\n",
      "Epoch 7/60\n",
      "333/333 [==============================] - 9s 28ms/step - loss: 0.0180 - accuracy: 0.9938 - val_loss: 0.3392 - val_accuracy: 0.9289\n",
      "Epoch 8/60\n",
      "333/333 [==============================] - 9s 28ms/step - loss: 0.0199 - accuracy: 0.9928 - val_loss: 0.3076 - val_accuracy: 0.9263\n",
      "Epoch 9/60\n",
      "333/333 [==============================] - 9s 28ms/step - loss: 0.0159 - accuracy: 0.9938 - val_loss: 0.3285 - val_accuracy: 0.9331\n",
      "Epoch 10/60\n",
      "333/333 [==============================] - 9s 28ms/step - loss: 0.0137 - accuracy: 0.9944 - val_loss: 0.3876 - val_accuracy: 0.9272\n",
      "Epoch 11/60\n",
      "333/333 [==============================] - 9s 28ms/step - loss: 0.0127 - accuracy: 0.9952 - val_loss: 0.4020 - val_accuracy: 0.9306\n",
      "Epoch 12/60\n",
      "333/333 [==============================] - 9s 28ms/step - loss: 0.0146 - accuracy: 0.9955 - val_loss: 0.3672 - val_accuracy: 0.9314\n",
      "Epoch 13/60\n",
      "333/333 [==============================] - 9s 28ms/step - loss: 0.0123 - accuracy: 0.9961 - val_loss: 0.3964 - val_accuracy: 0.9306\n",
      "Epoch 14/60\n",
      "333/333 [==============================] - 9s 28ms/step - loss: 0.0095 - accuracy: 0.9974 - val_loss: 0.3786 - val_accuracy: 0.9289\n",
      "Epoch 15/60\n",
      "333/333 [==============================] - 9s 28ms/step - loss: 0.0160 - accuracy: 0.9938 - val_loss: 0.3072 - val_accuracy: 0.9356\n",
      "Epoch 16/60\n",
      "333/333 [==============================] - 9s 28ms/step - loss: 0.0096 - accuracy: 0.9961 - val_loss: 0.2833 - val_accuracy: 0.9407\n",
      "Epoch 17/60\n",
      "333/333 [==============================] - 9s 28ms/step - loss: 0.0088 - accuracy: 0.9964 - val_loss: 0.3245 - val_accuracy: 0.9314\n",
      "Epoch 18/60\n",
      "333/333 [==============================] - 9s 28ms/step - loss: 0.0075 - accuracy: 0.9978 - val_loss: 0.3633 - val_accuracy: 0.9356\n",
      "Epoch 19/60\n",
      "333/333 [==============================] - 9s 28ms/step - loss: 0.0053 - accuracy: 0.9976 - val_loss: 0.3946 - val_accuracy: 0.9314\n",
      "Epoch 20/60\n",
      "333/333 [==============================] - 9s 28ms/step - loss: 0.0068 - accuracy: 0.9975 - val_loss: 0.3830 - val_accuracy: 0.9272\n",
      "Epoch 21/60\n",
      "333/333 [==============================] - 9s 28ms/step - loss: 0.0056 - accuracy: 0.9975 - val_loss: 0.4875 - val_accuracy: 0.9162\n",
      "Epoch 22/60\n",
      "333/333 [==============================] - 9s 28ms/step - loss: 0.0122 - accuracy: 0.9952 - val_loss: 0.3436 - val_accuracy: 0.9297\n",
      "Epoch 23/60\n",
      "333/333 [==============================] - 9s 28ms/step - loss: 0.0084 - accuracy: 0.9973 - val_loss: 0.3577 - val_accuracy: 0.9229\n",
      "Epoch 24/60\n",
      "333/333 [==============================] - 9s 28ms/step - loss: 0.0062 - accuracy: 0.9976 - val_loss: 0.4277 - val_accuracy: 0.9280\n",
      "Epoch 25/60\n",
      "333/333 [==============================] - 9s 28ms/step - loss: 0.0067 - accuracy: 0.9976 - val_loss: 0.4172 - val_accuracy: 0.9272\n",
      "Epoch 26/60\n",
      "333/333 [==============================] - 9s 28ms/step - loss: 0.0075 - accuracy: 0.9966 - val_loss: 0.4279 - val_accuracy: 0.9238\n",
      "Epoch 27/60\n",
      "333/333 [==============================] - 9s 28ms/step - loss: 0.0058 - accuracy: 0.9982 - val_loss: 0.4405 - val_accuracy: 0.9255\n",
      "Epoch 28/60\n",
      "333/333 [==============================] - 9s 28ms/step - loss: 0.0046 - accuracy: 0.9980 - val_loss: 0.4415 - val_accuracy: 0.9297\n",
      "Epoch 29/60\n",
      "333/333 [==============================] - 9s 28ms/step - loss: 0.0027 - accuracy: 0.9988 - val_loss: 0.5170 - val_accuracy: 0.9272\n",
      "Epoch 30/60\n",
      "333/333 [==============================] - 9s 28ms/step - loss: 0.0039 - accuracy: 0.9984 - val_loss: 0.4692 - val_accuracy: 0.9255\n",
      "Epoch 31/60\n",
      "333/333 [==============================] - 9s 28ms/step - loss: 0.0049 - accuracy: 0.9978 - val_loss: 0.5052 - val_accuracy: 0.9213\n",
      "Epoch 32/60\n",
      "333/333 [==============================] - 9s 28ms/step - loss: 0.0052 - accuracy: 0.9975 - val_loss: 0.4808 - val_accuracy: 0.9246\n",
      "Epoch 33/60\n",
      "333/333 [==============================] - 9s 28ms/step - loss: 0.0116 - accuracy: 0.9953 - val_loss: 0.4212 - val_accuracy: 0.9255\n",
      "Epoch 34/60\n",
      "333/333 [==============================] - 9s 28ms/step - loss: 0.0061 - accuracy: 0.9979 - val_loss: 0.3750 - val_accuracy: 0.9331\n",
      "Epoch 35/60\n",
      "333/333 [==============================] - 9s 28ms/step - loss: 0.0091 - accuracy: 0.9960 - val_loss: 0.3905 - val_accuracy: 0.9297\n",
      "Epoch 36/60\n",
      "333/333 [==============================] - 9s 28ms/step - loss: 0.0071 - accuracy: 0.9978 - val_loss: 0.3284 - val_accuracy: 0.9314\n",
      "Epoch 37/60\n",
      "333/333 [==============================] - 9s 28ms/step - loss: 0.0068 - accuracy: 0.9978 - val_loss: 0.3112 - val_accuracy: 0.9356\n",
      "Epoch 38/60\n",
      "333/333 [==============================] - 9s 28ms/step - loss: 0.0055 - accuracy: 0.9977 - val_loss: 0.3375 - val_accuracy: 0.9314\n",
      "Epoch 39/60\n",
      "333/333 [==============================] - 10s 29ms/step - loss: 0.0044 - accuracy: 0.9982 - val_loss: 0.4099 - val_accuracy: 0.9365\n",
      "Epoch 40/60\n",
      "333/333 [==============================] - 9s 28ms/step - loss: 0.0047 - accuracy: 0.9976 - val_loss: 0.4013 - val_accuracy: 0.9306\n",
      "Epoch 41/60\n",
      "333/333 [==============================] - 9s 28ms/step - loss: 0.0037 - accuracy: 0.9982 - val_loss: 0.4112 - val_accuracy: 0.9280\n",
      "Epoch 42/60\n",
      "333/333 [==============================] - 9s 28ms/step - loss: 0.0028 - accuracy: 0.9987 - val_loss: 0.4478 - val_accuracy: 0.9331\n",
      "Epoch 43/60\n",
      "333/333 [==============================] - 9s 28ms/step - loss: 0.0024 - accuracy: 0.9985 - val_loss: 0.4582 - val_accuracy: 0.9323\n",
      "Epoch 44/60\n",
      "333/333 [==============================] - 9s 28ms/step - loss: 0.0029 - accuracy: 0.9985 - val_loss: 0.4481 - val_accuracy: 0.9263\n",
      "Epoch 45/60\n",
      "333/333 [==============================] - 9s 28ms/step - loss: 0.0051 - accuracy: 0.9979 - val_loss: 0.4664 - val_accuracy: 0.9255\n",
      "Epoch 46/60\n",
      "333/333 [==============================] - 9s 28ms/step - loss: 0.0054 - accuracy: 0.9975 - val_loss: 0.4262 - val_accuracy: 0.9331\n",
      "Epoch 47/60\n",
      "333/333 [==============================] - 9s 28ms/step - loss: 0.0029 - accuracy: 0.9986 - val_loss: 0.5002 - val_accuracy: 0.9306\n",
      "Epoch 48/60\n",
      "333/333 [==============================] - 9s 28ms/step - loss: 0.0028 - accuracy: 0.9984 - val_loss: 0.5141 - val_accuracy: 0.9297\n",
      "Epoch 49/60\n",
      "333/333 [==============================] - 9s 28ms/step - loss: 0.0041 - accuracy: 0.9980 - val_loss: 0.4517 - val_accuracy: 0.9272\n",
      "Epoch 50/60\n",
      "333/333 [==============================] - 9s 28ms/step - loss: 0.0028 - accuracy: 0.9986 - val_loss: 0.5163 - val_accuracy: 0.9306\n",
      "Epoch 51/60\n",
      "333/333 [==============================] - 9s 28ms/step - loss: 0.0033 - accuracy: 0.9981 - val_loss: 0.5103 - val_accuracy: 0.9272\n",
      "Epoch 52/60\n",
      "333/333 [==============================] - 9s 28ms/step - loss: 0.0082 - accuracy: 0.9968 - val_loss: 0.4208 - val_accuracy: 0.9297\n",
      "Epoch 53/60\n",
      "333/333 [==============================] - 9s 28ms/step - loss: 0.0033 - accuracy: 0.9985 - val_loss: 0.5171 - val_accuracy: 0.9297\n",
      "Epoch 54/60\n",
      "333/333 [==============================] - 9s 28ms/step - loss: 0.0046 - accuracy: 0.9979 - val_loss: 0.4121 - val_accuracy: 0.9272\n",
      "Epoch 55/60\n",
      "333/333 [==============================] - 9s 28ms/step - loss: 0.0032 - accuracy: 0.9985 - val_loss: 0.4841 - val_accuracy: 0.9297\n",
      "Epoch 56/60\n",
      "333/333 [==============================] - 9s 28ms/step - loss: 0.0019 - accuracy: 0.9988 - val_loss: 0.5490 - val_accuracy: 0.9263\n",
      "Epoch 57/60\n",
      "333/333 [==============================] - 9s 28ms/step - loss: 0.0024 - accuracy: 0.9987 - val_loss: 0.5427 - val_accuracy: 0.9306\n",
      "Epoch 58/60\n",
      "333/333 [==============================] - 9s 28ms/step - loss: 0.0025 - accuracy: 0.9984 - val_loss: 0.5146 - val_accuracy: 0.9314\n",
      "Epoch 59/60\n",
      "333/333 [==============================] - 9s 28ms/step - loss: 0.0022 - accuracy: 0.9985 - val_loss: 0.5448 - val_accuracy: 0.9314\n",
      "Epoch 60/60\n",
      "333/333 [==============================] - 9s 28ms/step - loss: 0.0027 - accuracy: 0.9983 - val_loss: 0.5896 - val_accuracy: 0.9331\n"
     ]
    }
   ],
   "source": [
    "\n",
    "history = model.fit(padded, training_labels_final, epochs=60, validation_data=(testing_padded, testing_labels_final))"
   ]
  },
  {
   "cell_type": "code",
   "execution_count": 54,
   "id": "7782da5d",
   "metadata": {},
   "outputs": [
    {
     "data": {
      "image/png": "[encoded data removed]",
      "text/plain": [
       "<Figure size 432x288 with 1 Axes>"
      ]
     },
     "metadata": {
      "needs_background": "light"
     },
     "output_type": "display_data"
    },
    {
     "data": {
      "image/png": "[encoded data removed]",
      "text/plain": [
       "<Figure size 432x288 with 1 Axes>"
      ]
     },
     "metadata": {
      "needs_background": "light"
     },
     "output_type": "display_data"
    }
   ],
   "source": [
    "plt.figure(figsize=(6,4))\n",
    "plt.plot(history.history['accuracy'])\n",
    "plt.plot(history.history['val_accuracy'])\n",
    "plt.title('Accuracy')\n",
    "plt.ylabel('accuracy')\n",
    "plt.xlabel('epoch')\n",
    "plt.legend(['train', 'Validation'], loc='upper left')\n",
    "plt.show()\n",
    "\n",
    "plt.figure(figsize=(6,4))\n",
    "plt.plot(history.history['loss'])\n",
    "plt.plot(history.history['val_loss'])\n",
    "plt.title('Loss')\n",
    "plt.ylabel('Loss')\n",
    "plt.xlabel('epoch')\n",
    "plt.legend(['train', 'Validation'], loc='upper left')\n",
    "plt.show()"
   ]
  },
  {
   "cell_type": "code",
   "execution_count": null,
   "id": "66713dec",
   "metadata": {},
   "outputs": [],
   "source": []
  }
 ],
 "metadata": {
  "kernelspec": {
   "display_name": "Python 3 (ipykernel)",
   "language": "python",
   "name": "python3"
  },
  "language_info": {
   "codemirror_mode": {
    "name": "ipython",
    "version": 3
   },
   "file_extension": ".py",
   "mimetype": "text/x-python",
   "name": "python",
   "nbconvert_exporter": "python",
   "pygments_lexer": "ipython3",
   "version": "3.9.12"
  }
 },
 "nbformat": 4,
 "nbformat_minor": 5
}
