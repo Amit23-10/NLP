{
 "cells": [
  {
   "cell_type": "code",
   "execution_count": 14,
   "id": "ae4beaea",
   "metadata": {},
   "outputs": [],
   "source": [
    "import numpy as np # linear algebra\n",
    "import pandas as pd # data processing, CSV file I/O (e.g. pd.read_csv)"
   ]
  },
  {
   "cell_type": "code",
   "execution_count": 15,
   "id": "a8076c39",
   "metadata": {},
   "outputs": [],
   "source": [
    "import re\n",
    "import nltk\n",
    "from nltk.corpus import stopwords\n",
    "\n",
    "from numpy import array\n",
    "from keras.preprocessing.text import one_hot\n",
    "from tensorflow.keras.preprocessing.sequence import pad_sequences\n",
    "from keras.models import Sequential\n",
    "from keras.layers.core import Activation, Dropout, Dense\n",
    "from keras.layers import Flatten, GlobalMaxPooling1D\n",
    "# from keras.layers.embeddings import Embedding\n",
    "from sklearn.model_selection import train_test_split\n",
    "import tensorflow as tf\n",
    "from tensorflow.keras.preprocessing.text import Tokenizer"
   ]
  },
  {
   "cell_type": "code",
   "execution_count": 16,
   "id": "7a956d82",
   "metadata": {},
   "outputs": [
    {
     "data": {
      "text/plain": [
       "(11807, 2)"
      ]
     },
     "execution_count": 16,
     "metadata": {},
     "output_type": "execute_result"
    }
   ],
   "source": [
    "reviews = pd.read_csv(\"D:\\\\archive_19\\\\Bengali Review Dataset.csv\")\n",
    "\n",
    "reviews.shape"
   ]
  },
  {
   "cell_type": "code",
   "execution_count": 17,
   "id": "5dc56145",
   "metadata": {},
   "outputs": [
    {
     "data": {
      "text/html": [
       "<div>\n",
       "<style scoped>\n",
       "    .dataframe tbody tr th:only-of-type {\n",
       "        vertical-align: middle;\n",
       "    }\n",
       "\n",
       "    .dataframe tbody tr th {\n",
       "        vertical-align: top;\n",
       "    }\n",
       "\n",
       "    .dataframe thead th {\n",
       "        text-align: right;\n",
       "    }\n",
       "</style>\n",
       "<table border=\"1\" class=\"dataframe\">\n",
       "  <thead>\n",
       "    <tr style=\"text-align: right;\">\n",
       "      <th></th>\n",
       "      <th>Reviews</th>\n",
       "      <th>Sentiment</th>\n",
       "    </tr>\n",
       "  </thead>\n",
       "  <tbody>\n",
       "    <tr>\n",
       "      <th>0</th>\n",
       "      <td>অসাধারণ নিশো বস্ আর অমি ভাইকেও।</td>\n",
       "      <td>positive</td>\n",
       "    </tr>\n",
       "    <tr>\n",
       "      <th>1</th>\n",
       "      <td>\"এত মোটা বাশ নিতে পারছি না বাবা \"</td>\n",
       "      <td>negative</td>\n",
       "    </tr>\n",
       "    <tr>\n",
       "      <th>2</th>\n",
       "      <td>নাটক আসলেই অসাধারণ</td>\n",
       "      <td>positive</td>\n",
       "    </tr>\n",
       "    <tr>\n",
       "      <th>3</th>\n",
       "      <td>ফালতু একটা নাটক</td>\n",
       "      <td>negative</td>\n",
       "    </tr>\n",
       "    <tr>\n",
       "      <th>4</th>\n",
       "      <td>ধুমপান সাস্থর জন্য ক্ষতিকর।</td>\n",
       "      <td>negative</td>\n",
       "    </tr>\n",
       "  </tbody>\n",
       "</table>\n",
       "</div>"
      ],
      "text/plain": [
       "                              Reviews Sentiment\n",
       "0     অসাধারণ নিশো বস্ আর অমি ভাইকেও।  positive\n",
       "1   \"এত মোটা বাশ নিতে পারছি না বাবা \"  negative\n",
       "2                  নাটক আসলেই অসাধারণ  positive\n",
       "3                     ফালতু একটা নাটক  negative\n",
       "4         ধুমপান সাস্থর জন্য ক্ষতিকর।  negative"
      ]
     },
     "execution_count": 17,
     "metadata": {},
     "output_type": "execute_result"
    }
   ],
   "source": [
    "reviews.head()"
   ]
  },
  {
   "cell_type": "code",
   "execution_count": 18,
   "id": "08c57c02",
   "metadata": {},
   "outputs": [
    {
     "data": {
      "text/plain": [
       "<AxesSubplot:xlabel='Sentiment', ylabel='count'>"
      ]
     },
     "execution_count": 18,
     "metadata": {},
     "output_type": "execute_result"
    },
    {
     "data": {
      "image/png": "[encoded data removed]",
      "text/plain": [
       "<Figure size 432x288 with 1 Axes>"
      ]
     },
     "metadata": {
      "needs_background": "light"
     },
     "output_type": "display_data"
    }
   ],
   "source": [
    "import seaborn as sns\n",
    "sns.countplot(x = 'Sentiment', data = reviews)"
   ]
  },
  {
   "cell_type": "code",
   "execution_count": 20,
   "id": "20ab6e2c",
   "metadata": {},
   "outputs": [],
   "source": [
    "X = reviews['Reviews'].to_numpy()"
   ]
  },
  {
   "cell_type": "code",
   "execution_count": 21,
   "id": "0b539245",
   "metadata": {},
   "outputs": [
    {
     "data": {
      "text/plain": [
       "array([' অসাধারণ নিশো বস্ আর অমি ভাইকেও।',\n",
       "       ' \"এত মোটা বাশ নিতে পারছি না বাবা \"', ' নাটক আসলেই অসাধারণ', ...,\n",
       "       ' ভাই আপনাদের এত স্পন্সর দরকার তাহলে Youtube নাটক দিছেন কেন ? নাটক ভালো ছিল But দেখে শান্তি পাইলাম না',\n",
       "       'এগুলো কি নাটক না কি', ' অনেক বেশি ভালো লাগল'], dtype=object)"
      ]
     },
     "execution_count": 21,
     "metadata": {},
     "output_type": "execute_result"
    }
   ],
   "source": [
    "X"
   ]
  },
  {
   "cell_type": "code",
   "execution_count": 22,
   "id": "613dc3b3",
   "metadata": {},
   "outputs": [],
   "source": [
    "y = np.array(list(map(lambda x: 1 if x == \"positive\" else 0, reviews['Sentiment'])))"
   ]
  },
  {
   "cell_type": "code",
   "execution_count": 23,
   "id": "4820ee11",
   "metadata": {},
   "outputs": [
    {
     "data": {
      "text/plain": [
       "array([1, 0, 1, ..., 1, 0, 1])"
      ]
     },
     "execution_count": 23,
     "metadata": {},
     "output_type": "execute_result"
    }
   ],
   "source": [
    "y"
   ]
  },
  {
   "cell_type": "code",
   "execution_count": 24,
   "id": "f1844b61",
   "metadata": {},
   "outputs": [],
   "source": [
    "X_train, X_test, y_train, y_test = train_test_split(X, y,test_size = 0.10, random_state = 42)"
   ]
  },
  {
   "cell_type": "code",
   "execution_count": 25,
   "id": "a1c2816a",
   "metadata": {},
   "outputs": [],
   "source": [
    "vocab_size = 10000\n",
    "embedding_dim = 16\n",
    "max_length = 120\n",
    "trunc_type = 'post'\n",
    "oov_tok = '<OOV>'\n",
    "padding_type = 'post'"
   ]
  },
  {
   "cell_type": "code",
   "execution_count": 26,
   "id": "d6e396d0",
   "metadata": {},
   "outputs": [],
   "source": [
    "tokenizer = Tokenizer(num_words=vocab_size)\n",
    "tokenizer.fit_on_texts(X_train)\n",
    "word_index = tokenizer.word_index"
   ]
  },
  {
   "cell_type": "code",
   "execution_count": 28,
   "id": "69fbe5c2",
   "metadata": {},
   "outputs": [],
   "source": [
    "sequences = tokenizer.texts_to_sequences(X_train)\n",
    "padded = pad_sequences(sequences, maxlen=max_length, truncating=trunc_type)\n",
    "testing_sentences = tokenizer.texts_to_sequences(X_test)\n",
    "testing_padded = pad_sequences(testing_sentences, maxlen=max_length)"
   ]
  },
  {
   "cell_type": "code",
   "execution_count": 35,
   "id": "9f7bfbe3",
   "metadata": {},
   "outputs": [],
   "source": [
    "from tensorflow.keras.optimizers import Adam\n",
    "from tensorflow.keras.models import Sequential\n",
    "from tensorflow.keras.callbacks import EarlyStopping\n",
    "from tensorflow.keras.layers import Dense, LSTM, Embedding, Dropout, Activation, Flatten, Input, concatenate, Conv1D, GlobalMaxPooling1D, MaxPooling1D,BatchNormalization"
   ]
  },
  {
   "cell_type": "code",
   "execution_count": 43,
   "id": "8ce5567c",
   "metadata": {},
   "outputs": [],
   "source": [
    "model = Sequential()\n",
    "model.add(Embedding(vocab_size, embedding_dim, input_length=max_length)),\n",
    "model.add(LSTM(128, return_sequences=True)),\n",
    "model.add(Dropout(0.2))  ,\n",
    "model.add(LSTM(64)),\n",
    "model.add(Dropout(0.2))  ,\n",
    "model.add(Dense(128, activation='relu')),\n",
    "model.add(Dropout(0.2)),\n",
    "model.add(Dense(64, activation='relu')),\n",
    "model.add(Dropout(0.2)),\n",
    "model.add(Dense(1))\n",
    "model.add(Activation('sigmoid'))"
   ]
  },
  {
   "cell_type": "code",
   "execution_count": 44,
   "id": "3d820c61",
   "metadata": {},
   "outputs": [],
   "source": [
    "model.compile(loss='binary_crossentropy', optimizer='adam', metrics=['accuracy'])"
   ]
  },
  {
   "cell_type": "code",
   "execution_count": 45,
   "id": "6fa3bdb3",
   "metadata": {},
   "outputs": [
    {
     "name": "stdout",
     "output_type": "stream",
     "text": [
      "Model: \"sequential_2\"\n",
      "_________________________________________________________________\n",
      " Layer (type)                Output Shape              Param #   \n",
      "=================================================================\n",
      " embedding_2 (Embedding)     (None, 120, 16)           160000    \n",
      "                                                                 \n",
      " lstm_1 (LSTM)               (None, 120, 128)          74240     \n",
      "                                                                 \n",
      " dropout_5 (Dropout)         (None, 120, 128)          0         \n",
      "                                                                 \n",
      " lstm_2 (LSTM)               (None, 64)                49408     \n",
      "                                                                 \n",
      " dropout_6 (Dropout)         (None, 64)                0         \n",
      "                                                                 \n",
      " dense_4 (Dense)             (None, 128)               8320      \n",
      "                                                                 \n",
      " dropout_7 (Dropout)         (None, 128)               0         \n",
      "                                                                 \n",
      " dense_5 (Dense)             (None, 64)                8256      \n",
      "                                                                 \n",
      " dropout_8 (Dropout)         (None, 64)                0         \n",
      "                                                                 \n",
      " dense_6 (Dense)             (None, 1)                 65        \n",
      "                                                                 \n",
      " activation_1 (Activation)   (None, 1)                 0         \n",
      "                                                                 \n",
      "=================================================================\n",
      "Total params: 300,289\n",
      "Trainable params: 300,289\n",
      "Non-trainable params: 0\n",
      "_________________________________________________________________\n"
     ]
    }
   ],
   "source": [
    "model.summary()"
   ]
  },
  {
   "cell_type": "code",
   "execution_count": 46,
   "id": "7c269156",
   "metadata": {},
   "outputs": [],
   "source": [
    "training_labels_final = np.array(y_train)\n",
    "testing_labels_final = np.array(y_test)"
   ]
  },
  {
   "cell_type": "code",
   "execution_count": 47,
   "id": "5d5a239c",
   "metadata": {
    "scrolled": true
   },
   "outputs": [
    {
     "name": "stdout",
     "output_type": "stream",
     "text": [
      "Epoch 1/60\n",
      "333/333 [==============================] - 24s 64ms/step - loss: 0.3194 - accuracy: 0.8569 - val_loss: 0.1944 - val_accuracy: 0.9229\n",
      "Epoch 2/60\n",
      "333/333 [==============================] - 20s 61ms/step - loss: 0.1132 - accuracy: 0.9583 - val_loss: 0.1843 - val_accuracy: 0.9263\n",
      "Epoch 3/60\n",
      "333/333 [==============================] - 21s 62ms/step - loss: 0.0593 - accuracy: 0.9802 - val_loss: 0.1956 - val_accuracy: 0.9306\n",
      "Epoch 4/60\n",
      "333/333 [==============================] - 20s 61ms/step - loss: 0.0421 - accuracy: 0.9857 - val_loss: 0.2475 - val_accuracy: 0.9382\n",
      "Epoch 5/60\n",
      "333/333 [==============================] - 20s 61ms/step - loss: 0.0540 - accuracy: 0.9812 - val_loss: 0.2534 - val_accuracy: 0.9255\n",
      "Epoch 6/60\n",
      "333/333 [==============================] - 20s 61ms/step - loss: 0.0317 - accuracy: 0.9892 - val_loss: 0.2975 - val_accuracy: 0.9229\n",
      "Epoch 7/60\n",
      "333/333 [==============================] - 20s 61ms/step - loss: 0.0231 - accuracy: 0.9921 - val_loss: 0.3353 - val_accuracy: 0.9289\n",
      "Epoch 8/60\n",
      "333/333 [==============================] - 20s 61ms/step - loss: 0.0177 - accuracy: 0.9938 - val_loss: 0.3615 - val_accuracy: 0.9229\n",
      "Epoch 9/60\n",
      "333/333 [==============================] - 20s 61ms/step - loss: 0.0197 - accuracy: 0.9929 - val_loss: 0.3426 - val_accuracy: 0.9289\n",
      "Epoch 10/60\n",
      "333/333 [==============================] - 20s 61ms/step - loss: 0.0158 - accuracy: 0.9939 - val_loss: 0.4469 - val_accuracy: 0.9229\n",
      "Epoch 11/60\n",
      "333/333 [==============================] - 20s 61ms/step - loss: 0.0105 - accuracy: 0.9959 - val_loss: 0.4625 - val_accuracy: 0.9272\n",
      "Epoch 12/60\n",
      "333/333 [==============================] - 20s 61ms/step - loss: 0.0121 - accuracy: 0.9954 - val_loss: 0.4958 - val_accuracy: 0.9255\n",
      "Epoch 13/60\n",
      "333/333 [==============================] - 20s 61ms/step - loss: 0.0117 - accuracy: 0.9960 - val_loss: 0.4843 - val_accuracy: 0.9272\n",
      "Epoch 14/60\n",
      "333/333 [==============================] - 21s 62ms/step - loss: 0.0104 - accuracy: 0.9962 - val_loss: 0.4196 - val_accuracy: 0.9221\n",
      "Epoch 15/60\n",
      "333/333 [==============================] - 20s 61ms/step - loss: 0.0093 - accuracy: 0.9965 - val_loss: 0.5031 - val_accuracy: 0.9255\n",
      "Epoch 16/60\n",
      "333/333 [==============================] - 20s 61ms/step - loss: 0.0137 - accuracy: 0.9946 - val_loss: 0.5334 - val_accuracy: 0.9272\n",
      "Epoch 17/60\n",
      "333/333 [==============================] - 20s 61ms/step - loss: 0.0142 - accuracy: 0.9941 - val_loss: 0.4058 - val_accuracy: 0.9289\n",
      "Epoch 18/60\n",
      "333/333 [==============================] - 20s 60ms/step - loss: 0.0104 - accuracy: 0.9958 - val_loss: 0.4693 - val_accuracy: 0.9340\n",
      "Epoch 19/60\n",
      "333/333 [==============================] - 20s 61ms/step - loss: 0.0098 - accuracy: 0.9963 - val_loss: 0.4310 - val_accuracy: 0.9255\n",
      "Epoch 20/60\n",
      "333/333 [==============================] - 20s 61ms/step - loss: 0.0081 - accuracy: 0.9969 - val_loss: 0.5644 - val_accuracy: 0.9263\n",
      "Epoch 21/60\n",
      "333/333 [==============================] - 21s 62ms/step - loss: 0.0099 - accuracy: 0.9964 - val_loss: 0.5432 - val_accuracy: 0.9272\n",
      "Epoch 22/60\n",
      "333/333 [==============================] - 20s 61ms/step - loss: 0.0136 - accuracy: 0.9960 - val_loss: 0.3797 - val_accuracy: 0.9221\n",
      "Epoch 23/60\n",
      "333/333 [==============================] - 20s 61ms/step - loss: 0.0097 - accuracy: 0.9959 - val_loss: 0.5051 - val_accuracy: 0.9246\n",
      "Epoch 24/60\n",
      "333/333 [==============================] - 21s 62ms/step - loss: 0.0081 - accuracy: 0.9975 - val_loss: 0.5901 - val_accuracy: 0.9297\n",
      "Epoch 25/60\n",
      "333/333 [==============================] - 20s 61ms/step - loss: 0.0046 - accuracy: 0.9976 - val_loss: 0.7329 - val_accuracy: 0.9238\n",
      "Epoch 26/60\n",
      "333/333 [==============================] - 20s 61ms/step - loss: 0.0061 - accuracy: 0.9976 - val_loss: 0.7365 - val_accuracy: 0.9238\n",
      "Epoch 27/60\n",
      "333/333 [==============================] - 20s 61ms/step - loss: 0.0058 - accuracy: 0.9976 - val_loss: 0.5910 - val_accuracy: 0.9280\n",
      "Epoch 28/60\n",
      "333/333 [==============================] - 20s 61ms/step - loss: 0.0061 - accuracy: 0.9968 - val_loss: 0.5804 - val_accuracy: 0.9263\n",
      "Epoch 29/60\n",
      "333/333 [==============================] - 20s 61ms/step - loss: 0.0053 - accuracy: 0.9976 - val_loss: 0.8853 - val_accuracy: 0.9255\n",
      "Epoch 30/60\n",
      "333/333 [==============================] - 20s 62ms/step - loss: 0.0090 - accuracy: 0.9978 - val_loss: 0.6321 - val_accuracy: 0.9289\n",
      "Epoch 31/60\n",
      "333/333 [==============================] - 21s 62ms/step - loss: 0.0038 - accuracy: 0.9978 - val_loss: 0.7378 - val_accuracy: 0.9331\n",
      "Epoch 32/60\n",
      "333/333 [==============================] - 20s 61ms/step - loss: 0.0043 - accuracy: 0.9981 - val_loss: 0.7013 - val_accuracy: 0.9280\n",
      "Epoch 33/60\n",
      "333/333 [==============================] - 20s 61ms/step - loss: 0.0103 - accuracy: 0.9960 - val_loss: 0.6031 - val_accuracy: 0.9263\n",
      "Epoch 34/60\n",
      "333/333 [==============================] - 20s 61ms/step - loss: 0.0059 - accuracy: 0.9971 - val_loss: 0.6486 - val_accuracy: 0.9272\n",
      "Epoch 35/60\n",
      "333/333 [==============================] - 20s 61ms/step - loss: 0.0054 - accuracy: 0.9976 - val_loss: 0.6545 - val_accuracy: 0.9280\n",
      "Epoch 36/60\n",
      "333/333 [==============================] - 21s 62ms/step - loss: 0.0060 - accuracy: 0.9976 - val_loss: 0.6194 - val_accuracy: 0.9196\n",
      "Epoch 37/60\n",
      "333/333 [==============================] - 21s 62ms/step - loss: 0.0045 - accuracy: 0.9976 - val_loss: 0.6292 - val_accuracy: 0.9229\n",
      "Epoch 38/60\n",
      "333/333 [==============================] - 21s 62ms/step - loss: 0.0042 - accuracy: 0.9976 - val_loss: 0.8225 - val_accuracy: 0.9246\n",
      "Epoch 39/60\n",
      "333/333 [==============================] - 20s 62ms/step - loss: 0.0046 - accuracy: 0.9974 - val_loss: 0.8233 - val_accuracy: 0.9263\n",
      "Epoch 40/60\n",
      "333/333 [==============================] - 21s 62ms/step - loss: 0.0074 - accuracy: 0.9974 - val_loss: 0.7018 - val_accuracy: 0.9297\n",
      "Epoch 41/60\n",
      "333/333 [==============================] - 21s 62ms/step - loss: 0.0027 - accuracy: 0.9986 - val_loss: 0.8877 - val_accuracy: 0.9314\n",
      "Epoch 42/60\n",
      "333/333 [==============================] - 21s 62ms/step - loss: 0.0038 - accuracy: 0.9976 - val_loss: 0.9456 - val_accuracy: 0.9263\n",
      "Epoch 43/60\n",
      "333/333 [==============================] - 21s 62ms/step - loss: 0.0029 - accuracy: 0.9983 - val_loss: 0.9182 - val_accuracy: 0.9272\n",
      "Epoch 44/60\n",
      "333/333 [==============================] - 21s 62ms/step - loss: 0.0024 - accuracy: 0.9984 - val_loss: 0.9951 - val_accuracy: 0.9246\n",
      "Epoch 45/60\n",
      "333/333 [==============================] - 21s 62ms/step - loss: 0.0025 - accuracy: 0.9983 - val_loss: 0.9941 - val_accuracy: 0.9306\n",
      "Epoch 46/60\n",
      "333/333 [==============================] - 21s 62ms/step - loss: 0.0025 - accuracy: 0.9983 - val_loss: 0.9315 - val_accuracy: 0.9246\n",
      "Epoch 47/60\n",
      "333/333 [==============================] - 21s 62ms/step - loss: 0.0028 - accuracy: 0.9987 - val_loss: 1.1501 - val_accuracy: 0.9306\n",
      "Epoch 48/60\n",
      "333/333 [==============================] - 21s 62ms/step - loss: 0.0027 - accuracy: 0.9982 - val_loss: 1.0995 - val_accuracy: 0.9213\n",
      "Epoch 49/60\n",
      "333/333 [==============================] - 21s 62ms/step - loss: 0.0107 - accuracy: 0.9965 - val_loss: 0.5586 - val_accuracy: 0.9238\n",
      "Epoch 50/60\n",
      "333/333 [==============================] - 21s 62ms/step - loss: 0.0032 - accuracy: 0.9981 - val_loss: 0.7357 - val_accuracy: 0.9263\n",
      "Epoch 51/60\n",
      "333/333 [==============================] - 21s 62ms/step - loss: 0.0040 - accuracy: 0.9982 - val_loss: 0.6575 - val_accuracy: 0.9229\n",
      "Epoch 52/60\n",
      "333/333 [==============================] - 21s 62ms/step - loss: 0.0026 - accuracy: 0.9984 - val_loss: 0.8779 - val_accuracy: 0.9255\n",
      "Epoch 53/60\n",
      "333/333 [==============================] - 21s 62ms/step - loss: 0.0025 - accuracy: 0.9987 - val_loss: 0.8652 - val_accuracy: 0.9280\n",
      "Epoch 54/60\n",
      "333/333 [==============================] - 21s 62ms/step - loss: 0.0029 - accuracy: 0.9985 - val_loss: 1.0008 - val_accuracy: 0.9263\n",
      "Epoch 55/60\n",
      "333/333 [==============================] - 21s 62ms/step - loss: 0.0024 - accuracy: 0.9983 - val_loss: 1.0473 - val_accuracy: 0.9221\n",
      "Epoch 56/60\n",
      "333/333 [==============================] - 21s 62ms/step - loss: 0.0076 - accuracy: 0.9970 - val_loss: 0.6289 - val_accuracy: 0.9297\n",
      "Epoch 57/60\n",
      "333/333 [==============================] - 21s 62ms/step - loss: 0.0050 - accuracy: 0.9975 - val_loss: 0.7750 - val_accuracy: 0.9238\n",
      "Epoch 58/60\n",
      "333/333 [==============================] - 20s 61ms/step - loss: 0.0048 - accuracy: 0.9978 - val_loss: 0.7407 - val_accuracy: 0.9246\n",
      "Epoch 59/60\n",
      "333/333 [==============================] - 21s 62ms/step - loss: 0.0047 - accuracy: 0.9983 - val_loss: 0.7041 - val_accuracy: 0.9272\n",
      "Epoch 60/60\n",
      "333/333 [==============================] - 21s 62ms/step - loss: 0.0033 - accuracy: 0.9984 - val_loss: 0.8234 - val_accuracy: 0.9263\n"
     ]
    }
   ],
   "source": [
    "\n",
    "history = model.fit(padded, training_labels_final, epochs=60, validation_data=(testing_padded, testing_labels_final))"
   ]
  },
  {
   "cell_type": "code",
   "execution_count": 48,
   "id": "3f52a0ec",
   "metadata": {},
   "outputs": [
    {
     "data": {
      "image/png": "[encoded data removed]",
      "text/plain": [
       "<Figure size 432x288 with 1 Axes>"
      ]
     },
     "metadata": {
      "needs_background": "light"
     },
     "output_type": "display_data"
    },
    {
     "data": {
      "image/png": "[encoded data removed]",
      "text/plain": [
       "<Figure size 432x288 with 1 Axes>"
      ]
     },
     "metadata": {
      "needs_background": "light"
     },
     "output_type": "display_data"
    }
   ],
   "source": [
    "plt.figure(figsize=(6,4))\n",
    "plt.plot(history.history['accuracy'])\n",
    "plt.plot(history.history['val_accuracy'])\n",
    "plt.title('Accuracy')\n",
    "plt.ylabel('accuracy')\n",
    "plt.xlabel('epoch')\n",
    "plt.legend(['train', 'Validation'], loc='upper left')\n",
    "plt.show()\n",
    "\n",
    "plt.figure(figsize=(6,4))\n",
    "plt.plot(history.history['loss'])\n",
    "plt.plot(history.history['val_loss'])\n",
    "plt.title('Loss')\n",
    "plt.ylabel('Loss')\n",
    "plt.xlabel('epoch')\n",
    "plt.legend(['train', 'Validation'], loc='upper left')\n",
    "plt.show()"
   ]
  },
  {
   "cell_type": "code",
   "execution_count": null,
   "id": "4d8993a2",
   "metadata": {},
   "outputs": [],
   "source": []
  }
 ],
 "metadata": {
  "kernelspec": {
   "display_name": "Python 3 (ipykernel)",
   "language": "python",
   "name": "python3"
  },
  "language_info": {
   "codemirror_mode": {
    "name": "ipython",
    "version": 3
   },
   "file_extension": ".py",
   "mimetype": "text/x-python",
   "name": "python",
   "nbconvert_exporter": "python",
   "pygments_lexer": "ipython3",
   "version": "3.9.12"
  }
 },
 "nbformat": 4,
 "nbformat_minor": 5
}
