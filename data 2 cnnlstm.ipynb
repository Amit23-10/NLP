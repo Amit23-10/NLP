{
 "cells": [
  {
   "cell_type": "code",
   "execution_count": 1,
   "id": "acd0899a",
   "metadata": {},
   "outputs": [],
   "source": [
    "import numpy as np \n",
    "import pandas as pd "
   ]
  },
  {
   "cell_type": "code",
   "execution_count": 2,
   "id": "f29814d7",
   "metadata": {},
   "outputs": [],
   "source": [
    "import pandas as pd"
   ]
  },
  {
   "cell_type": "code",
   "execution_count": 4,
   "id": "4f035b4d",
   "metadata": {},
   "outputs": [
    {
     "data": {
      "text/html": [
       "<div>\n",
       "<style scoped>\n",
       "    .dataframe tbody tr th:only-of-type {\n",
       "        vertical-align: middle;\n",
       "    }\n",
       "\n",
       "    .dataframe tbody tr th {\n",
       "        vertical-align: top;\n",
       "    }\n",
       "\n",
       "    .dataframe thead th {\n",
       "        text-align: right;\n",
       "    }\n",
       "</style>\n",
       "<table border=\"1\" class=\"dataframe\">\n",
       "  <thead>\n",
       "    <tr style=\"text-align: right;\">\n",
       "      <th></th>\n",
       "      <th>Text</th>\n",
       "      <th>Emotion</th>\n",
       "    </tr>\n",
       "  </thead>\n",
       "  <tbody>\n",
       "    <tr>\n",
       "      <th>0</th>\n",
       "      <td>i didnt feel humiliated</td>\n",
       "      <td>sadness</td>\n",
       "    </tr>\n",
       "    <tr>\n",
       "      <th>1</th>\n",
       "      <td>i can go from feeling so hopeless to so damned...</td>\n",
       "      <td>sadness</td>\n",
       "    </tr>\n",
       "    <tr>\n",
       "      <th>2</th>\n",
       "      <td>im grabbing a minute to post i feel greedy wrong</td>\n",
       "      <td>anger</td>\n",
       "    </tr>\n",
       "    <tr>\n",
       "      <th>3</th>\n",
       "      <td>i am ever feeling nostalgic about the fireplac...</td>\n",
       "      <td>love</td>\n",
       "    </tr>\n",
       "    <tr>\n",
       "      <th>4</th>\n",
       "      <td>i am feeling grouchy</td>\n",
       "      <td>anger</td>\n",
       "    </tr>\n",
       "  </tbody>\n",
       "</table>\n",
       "</div>"
      ],
      "text/plain": [
       "                                                Text  Emotion\n",
       "0                            i didnt feel humiliated  sadness\n",
       "1  i can go from feeling so hopeless to so damned...  sadness\n",
       "2   im grabbing a minute to post i feel greedy wrong    anger\n",
       "3  i am ever feeling nostalgic about the fireplac...     love\n",
       "4                               i am feeling grouchy    anger"
      ]
     },
     "execution_count": 4,
     "metadata": {},
     "output_type": "execute_result"
    }
   ],
   "source": [
    "filePath = 'D:\\\\New folder\\\\Emotion_final.csv'\n",
    "df = pd.read_csv(filePath)\n",
    "df.head()"
   ]
  },
  {
   "cell_type": "code",
   "execution_count": 5,
   "id": "8a12d52d",
   "metadata": {},
   "outputs": [
    {
     "data": {
      "text/plain": [
       "happy       7029\n",
       "sadness     6265\n",
       "anger       2993\n",
       "fear        2652\n",
       "love        1641\n",
       "surprise     879\n",
       "Name: Emotion, dtype: int64"
      ]
     },
     "execution_count": 5,
     "metadata": {},
     "output_type": "execute_result"
    }
   ],
   "source": [
    "df['Emotion'].value_counts()"
   ]
  },
  {
   "cell_type": "code",
   "execution_count": 6,
   "id": "ca27059d",
   "metadata": {},
   "outputs": [
    {
     "data": {
      "text/plain": [
       "Text       0\n",
       "Emotion    0\n",
       "dtype: int64"
      ]
     },
     "execution_count": 6,
     "metadata": {},
     "output_type": "execute_result"
    }
   ],
   "source": [
    "df.isnull().sum()"
   ]
  },
  {
   "cell_type": "code",
   "execution_count": 7,
   "id": "840e8ea5",
   "metadata": {},
   "outputs": [],
   "source": [
    "category = pd.get_dummies(df.Emotion)\n",
    "df1 = pd.concat([df, category], axis=1)\n",
    "df1 = df1.drop(columns='Emotion')"
   ]
  },
  {
   "cell_type": "code",
   "execution_count": 8,
   "id": "eefa7de6",
   "metadata": {},
   "outputs": [],
   "source": [
    "X = df1['Text'].values\n",
    "y = df1[['happy', 'sadness', 'anger', 'fear', 'love', 'surprise']].values"
   ]
  },
  {
   "cell_type": "code",
   "execution_count": 9,
   "id": "6038e1f5",
   "metadata": {},
   "outputs": [],
   "source": [
    "from sklearn.model_selection import train_test_split"
   ]
  },
  {
   "cell_type": "code",
   "execution_count": 10,
   "id": "8f2988ac",
   "metadata": {},
   "outputs": [],
   "source": [
    "X_train, X_test, y_train, y_test = train_test_split(X, y, test_size=0.2, random_state=1)"
   ]
  },
  {
   "cell_type": "code",
   "execution_count": 11,
   "id": "3a8be10f",
   "metadata": {},
   "outputs": [],
   "source": [
    "import tensorflow as tf\n",
    "from tensorflow.keras.preprocessing.text import Tokenizer\n",
    "from tensorflow.keras.preprocessing.sequence import pad_sequences\n",
    "from tensorflow.keras.preprocessing.text import one_hot"
   ]
  },
  {
   "cell_type": "code",
   "execution_count": 12,
   "id": "7995be91",
   "metadata": {},
   "outputs": [],
   "source": [
    "tokenizer = Tokenizer(num_words = 5000, oov_token='<x>', filters='!\"#$%&()*+,-./:;<=>?@[\\\\]^_`{|}~\\t\\n', lower=True)\n",
    "tokenizer.fit_on_texts(X_train)\n",
    "tokenizer.fit_on_texts(X_test)\n",
    "\n",
    "Seq_train = tokenizer.texts_to_sequences(X_train)\n",
    "Seq_test = tokenizer.texts_to_sequences(X_test)\n",
    "\n",
    "Pad_train = pad_sequences(Seq_train)\n",
    "Pad_test = pad_sequences(Seq_test)"
   ]
  },
  {
   "cell_type": "code",
   "execution_count": 13,
   "id": "c8849fe8",
   "metadata": {},
   "outputs": [],
   "source": [
    "from tensorflow.keras import Sequential\n",
    "from tensorflow.keras.layers import Embedding, Dense, Dropout, BatchNormalization, Flatten, LSTM,Conv1D,MaxPooling1D\n",
    "from tensorflow.keras.callbacks import Callback, ReduceLROnPlateau\n",
    "from tensorflow.keras.optimizers import Adam\n",
    "from tensorflow.keras.layers import Dense, LSTM, Embedding, Dropout, Activation, Flatten, Input, concatenate, Conv1D, GlobalMaxPooling1D"
   ]
  },
  {
   "cell_type": "code",
   "execution_count": 16,
   "id": "86c94224",
   "metadata": {},
   "outputs": [],
   "source": [
    "model = Sequential()\n",
    "model.add(Embedding(input_dim = 5000, output_dim = 128)),\n",
    "model.add(Conv1D(256,5,padding='valid',activation='relu',strides=1))\n",
    "model.add(MaxPooling1D(pool_size=2))\n",
    "model.add (BatchNormalization()),\n",
    "model.add (Dropout(0.2)),\n",
    "model.add(Conv1D(128, 5,padding='valid',activation='relu',strides=1))\n",
    "model.add(MaxPooling1D(pool_size=2))\n",
    "model.add (BatchNormalization()),\n",
    "model.add (Dropout(0.2)),\n",
    "model.add(LSTM(128))\n",
    "model.add (Dropout(0.2)),\n",
    "model.add(Dense(32))\n",
    "model.add(Dense(6))\n",
    "model.add(Activation('softmax'))"
   ]
  },
  {
   "cell_type": "code",
   "execution_count": 17,
   "id": "0a4eb25b",
   "metadata": {},
   "outputs": [
    {
     "name": "stdout",
     "output_type": "stream",
     "text": [
      "Model: \"sequential\"\n",
      "_________________________________________________________________\n",
      " Layer (type)                Output Shape              Param #   \n",
      "=================================================================\n",
      " embedding (Embedding)       (None, None, 128)         640000    \n",
      "                                                                 \n",
      " conv1d (Conv1D)             (None, None, 256)         164096    \n",
      "                                                                 \n",
      " max_pooling1d (MaxPooling1D  (None, None, 256)        0         \n",
      " )                                                               \n",
      "                                                                 \n",
      " batch_normalization (BatchN  (None, None, 256)        1024      \n",
      " ormalization)                                                   \n",
      "                                                                 \n",
      " dropout (Dropout)           (None, None, 256)         0         \n",
      "                                                                 \n",
      " conv1d_1 (Conv1D)           (None, None, 128)         163968    \n",
      "                                                                 \n",
      " max_pooling1d_1 (MaxPooling  (None, None, 128)        0         \n",
      " 1D)                                                             \n",
      "                                                                 \n",
      " batch_normalization_1 (Batc  (None, None, 128)        512       \n",
      " hNormalization)                                                 \n",
      "                                                                 \n",
      " dropout_1 (Dropout)         (None, None, 128)         0         \n",
      "                                                                 \n",
      " lstm (LSTM)                 (None, 128)               131584    \n",
      "                                                                 \n",
      " dropout_2 (Dropout)         (None, 128)               0         \n",
      "                                                                 \n",
      " dense (Dense)               (None, 32)                4128      \n",
      "                                                                 \n",
      " dense_1 (Dense)             (None, 6)                 198       \n",
      "                                                                 \n",
      " activation (Activation)     (None, 6)                 0         \n",
      "                                                                 \n",
      "=================================================================\n",
      "Total params: 1,105,510\n",
      "Trainable params: 1,104,742\n",
      "Non-trainable params: 768\n",
      "_________________________________________________________________\n"
     ]
    }
   ],
   "source": [
    "model.summary()"
   ]
  },
  {
   "cell_type": "code",
   "execution_count": 18,
   "id": "2a5845fe",
   "metadata": {},
   "outputs": [],
   "source": [
    "model.compile(\n",
    "    optimizer='adam',\n",
    "    loss='categorical_crossentropy',\n",
    "    metrics=['accuracy']\n",
    ")"
   ]
  },
  {
   "cell_type": "code",
   "execution_count": 19,
   "id": "3c5587be",
   "metadata": {
    "scrolled": true
   },
   "outputs": [
    {
     "name": "stdout",
     "output_type": "stream",
     "text": [
      "Epoch 1/60\n",
      "68/68 [==============================] - 11s 137ms/step - loss: 1.6146 - accuracy: 0.3284 - val_loss: 1.6687 - val_accuracy: 0.3029\n",
      "Epoch 2/60\n",
      "68/68 [==============================] - 10s 146ms/step - loss: 1.2633 - accuracy: 0.5182 - val_loss: 1.6220 - val_accuracy: 0.3029\n",
      "Epoch 3/60\n",
      "68/68 [==============================] - 9s 139ms/step - loss: 0.6092 - accuracy: 0.7834 - val_loss: 1.5041 - val_accuracy: 0.3371\n",
      "Epoch 4/60\n",
      "68/68 [==============================] - 10s 140ms/step - loss: 0.4032 - accuracy: 0.8559 - val_loss: 1.3194 - val_accuracy: 0.3910\n",
      "Epoch 5/60\n",
      "68/68 [==============================] - 10s 140ms/step - loss: 0.2904 - accuracy: 0.8951 - val_loss: 1.1503 - val_accuracy: 0.5252\n",
      "Epoch 6/60\n",
      "68/68 [==============================] - 10s 141ms/step - loss: 0.2300 - accuracy: 0.9176 - val_loss: 0.7727 - val_accuracy: 0.6897\n",
      "Epoch 7/60\n",
      "68/68 [==============================] - 10s 140ms/step - loss: 0.1957 - accuracy: 0.9296 - val_loss: 0.5155 - val_accuracy: 0.8243\n",
      "Epoch 8/60\n",
      "68/68 [==============================] - 10s 144ms/step - loss: 0.1981 - accuracy: 0.9288 - val_loss: 0.4138 - val_accuracy: 0.8726\n",
      "Epoch 9/60\n",
      "68/68 [==============================] - 10s 141ms/step - loss: 0.1710 - accuracy: 0.9369 - val_loss: 0.4443 - val_accuracy: 0.8716\n",
      "Epoch 10/60\n",
      "68/68 [==============================] - 10s 141ms/step - loss: 0.1559 - accuracy: 0.9420 - val_loss: 0.5302 - val_accuracy: 0.8686\n",
      "Epoch 11/60\n",
      "68/68 [==============================] - 9s 130ms/step - loss: 0.1314 - accuracy: 0.9521 - val_loss: 0.5174 - val_accuracy: 0.8777\n",
      "Epoch 12/60\n",
      "68/68 [==============================] - 9s 127ms/step - loss: 0.1191 - accuracy: 0.9558 - val_loss: 0.5791 - val_accuracy: 0.8716\n",
      "Epoch 13/60\n",
      "68/68 [==============================] - 9s 127ms/step - loss: 0.1325 - accuracy: 0.9513 - val_loss: 0.5666 - val_accuracy: 0.8777\n",
      "Epoch 14/60\n",
      "68/68 [==============================] - 9s 127ms/step - loss: 0.1102 - accuracy: 0.9588 - val_loss: 0.6296 - val_accuracy: 0.8740\n",
      "Epoch 15/60\n",
      "68/68 [==============================] - 9s 127ms/step - loss: 0.1331 - accuracy: 0.9507 - val_loss: 0.6535 - val_accuracy: 0.8723\n",
      "Epoch 16/60\n",
      "68/68 [==============================] - 9s 128ms/step - loss: 0.1138 - accuracy: 0.9562 - val_loss: 0.6626 - val_accuracy: 0.8742\n",
      "Epoch 17/60\n",
      "68/68 [==============================] - 9s 128ms/step - loss: 0.1164 - accuracy: 0.9554 - val_loss: 0.6613 - val_accuracy: 0.8719\n",
      "Epoch 18/60\n",
      "68/68 [==============================] - 9s 128ms/step - loss: 0.1052 - accuracy: 0.9613 - val_loss: 0.6633 - val_accuracy: 0.8705\n",
      "Epoch 19/60\n",
      "68/68 [==============================] - 9s 128ms/step - loss: 0.0959 - accuracy: 0.9647 - val_loss: 0.6924 - val_accuracy: 0.8753\n",
      "Epoch 20/60\n",
      "68/68 [==============================] - 9s 127ms/step - loss: 0.0906 - accuracy: 0.9647 - val_loss: 0.6863 - val_accuracy: 0.8744\n",
      "Epoch 21/60\n",
      "68/68 [==============================] - 9s 128ms/step - loss: 0.0859 - accuracy: 0.9676 - val_loss: 0.6959 - val_accuracy: 0.8735\n",
      "Epoch 22/60\n",
      "68/68 [==============================] - 9s 128ms/step - loss: 0.0844 - accuracy: 0.9671 - val_loss: 0.7158 - val_accuracy: 0.8809\n",
      "Epoch 23/60\n",
      "68/68 [==============================] - 9s 127ms/step - loss: 0.0812 - accuracy: 0.9679 - val_loss: 0.7443 - val_accuracy: 0.8758\n",
      "Epoch 24/60\n",
      "68/68 [==============================] - 9s 127ms/step - loss: 0.0807 - accuracy: 0.9684 - val_loss: 0.7396 - val_accuracy: 0.8753\n",
      "Epoch 25/60\n",
      "68/68 [==============================] - 9s 127ms/step - loss: 0.0834 - accuracy: 0.9667 - val_loss: 0.7334 - val_accuracy: 0.8770\n",
      "Epoch 26/60\n",
      "68/68 [==============================] - 9s 127ms/step - loss: 0.0766 - accuracy: 0.9696 - val_loss: 0.7535 - val_accuracy: 0.8774\n",
      "Epoch 27/60\n",
      "68/68 [==============================] - 9s 127ms/step - loss: 0.0776 - accuracy: 0.9698 - val_loss: 0.7996 - val_accuracy: 0.8747\n",
      "Epoch 28/60\n",
      "68/68 [==============================] - 9s 127ms/step - loss: 0.0769 - accuracy: 0.9697 - val_loss: 0.7604 - val_accuracy: 0.8812\n",
      "Epoch 29/60\n",
      "68/68 [==============================] - 9s 127ms/step - loss: 0.0863 - accuracy: 0.9667 - val_loss: 0.7287 - val_accuracy: 0.8747\n",
      "Epoch 30/60\n",
      "68/68 [==============================] - 9s 128ms/step - loss: 0.0986 - accuracy: 0.9628 - val_loss: 0.7319 - val_accuracy: 0.8719\n",
      "Epoch 31/60\n",
      "68/68 [==============================] - 9s 127ms/step - loss: 0.0841 - accuracy: 0.9663 - val_loss: 0.7436 - val_accuracy: 0.8777\n",
      "Epoch 32/60\n",
      "68/68 [==============================] - 9s 127ms/step - loss: 0.0813 - accuracy: 0.9680 - val_loss: 0.7430 - val_accuracy: 0.8835\n",
      "Epoch 33/60\n",
      "68/68 [==============================] - 9s 127ms/step - loss: 0.0895 - accuracy: 0.9646 - val_loss: 0.7432 - val_accuracy: 0.8779\n",
      "Epoch 34/60\n",
      "68/68 [==============================] - 9s 127ms/step - loss: 0.0855 - accuracy: 0.9675 - val_loss: 0.7351 - val_accuracy: 0.8800\n",
      "Epoch 35/60\n",
      "68/68 [==============================] - 9s 128ms/step - loss: 0.0828 - accuracy: 0.9673 - val_loss: 0.7583 - val_accuracy: 0.8819\n",
      "Epoch 36/60\n",
      "68/68 [==============================] - 9s 127ms/step - loss: 0.0738 - accuracy: 0.9718 - val_loss: 0.7694 - val_accuracy: 0.8823\n",
      "Epoch 37/60\n",
      "68/68 [==============================] - 9s 127ms/step - loss: 0.0765 - accuracy: 0.9701 - val_loss: 0.8120 - val_accuracy: 0.8823\n",
      "Epoch 38/60\n",
      "68/68 [==============================] - 9s 127ms/step - loss: 0.0722 - accuracy: 0.9712 - val_loss: 0.8403 - val_accuracy: 0.8763\n",
      "Epoch 39/60\n",
      "68/68 [==============================] - 9s 127ms/step - loss: 0.0744 - accuracy: 0.9710 - val_loss: 0.8642 - val_accuracy: 0.8756\n",
      "Epoch 40/60\n",
      "68/68 [==============================] - 9s 127ms/step - loss: 0.0702 - accuracy: 0.9717 - val_loss: 0.8418 - val_accuracy: 0.8791\n",
      "Epoch 41/60\n",
      "68/68 [==============================] - 9s 127ms/step - loss: 0.0711 - accuracy: 0.9713 - val_loss: 0.8193 - val_accuracy: 0.8784\n",
      "Epoch 42/60\n",
      "68/68 [==============================] - 9s 127ms/step - loss: 0.0720 - accuracy: 0.9711 - val_loss: 0.8318 - val_accuracy: 0.8772\n",
      "Epoch 43/60\n",
      "68/68 [==============================] - 9s 127ms/step - loss: 0.0710 - accuracy: 0.9702 - val_loss: 0.8150 - val_accuracy: 0.8758\n",
      "Epoch 44/60\n",
      "68/68 [==============================] - 9s 127ms/step - loss: 0.0876 - accuracy: 0.9641 - val_loss: 0.7835 - val_accuracy: 0.8693\n",
      "Epoch 45/60\n",
      "68/68 [==============================] - 9s 128ms/step - loss: 0.1073 - accuracy: 0.9614 - val_loss: 0.7798 - val_accuracy: 0.8712\n",
      "Epoch 46/60\n",
      "68/68 [==============================] - 9s 129ms/step - loss: 0.0810 - accuracy: 0.9680 - val_loss: 0.7964 - val_accuracy: 0.8767\n",
      "Epoch 47/60\n",
      "68/68 [==============================] - 9s 127ms/step - loss: 0.0756 - accuracy: 0.9694 - val_loss: 0.7674 - val_accuracy: 0.8774\n",
      "Epoch 48/60\n",
      "68/68 [==============================] - 9s 128ms/step - loss: 0.0735 - accuracy: 0.9712 - val_loss: 0.7581 - val_accuracy: 0.8814\n",
      "Epoch 49/60\n",
      "68/68 [==============================] - 9s 126ms/step - loss: 0.0713 - accuracy: 0.9719 - val_loss: 0.7609 - val_accuracy: 0.8812\n",
      "Epoch 50/60\n",
      "68/68 [==============================] - 9s 126ms/step - loss: 0.0681 - accuracy: 0.9717 - val_loss: 0.8191 - val_accuracy: 0.8779\n",
      "Epoch 51/60\n",
      "68/68 [==============================] - 9s 127ms/step - loss: 0.0674 - accuracy: 0.9712 - val_loss: 0.7849 - val_accuracy: 0.8830\n",
      "Epoch 52/60\n",
      "68/68 [==============================] - 9s 127ms/step - loss: 0.0698 - accuracy: 0.9715 - val_loss: 0.8193 - val_accuracy: 0.8816\n",
      "Epoch 53/60\n",
      "68/68 [==============================] - 9s 127ms/step - loss: 0.0710 - accuracy: 0.9703 - val_loss: 0.8440 - val_accuracy: 0.8786\n",
      "Epoch 54/60\n",
      "68/68 [==============================] - 9s 127ms/step - loss: 0.0712 - accuracy: 0.9701 - val_loss: 0.8099 - val_accuracy: 0.8809\n",
      "Epoch 55/60\n",
      "68/68 [==============================] - 9s 127ms/step - loss: 0.0690 - accuracy: 0.9713 - val_loss: 0.7978 - val_accuracy: 0.8837\n",
      "Epoch 56/60\n",
      "68/68 [==============================] - 9s 127ms/step - loss: 0.0659 - accuracy: 0.9722 - val_loss: 0.8142 - val_accuracy: 0.8844\n",
      "Epoch 57/60\n",
      "68/68 [==============================] - 9s 128ms/step - loss: 0.0905 - accuracy: 0.9657 - val_loss: 0.7642 - val_accuracy: 0.8777\n",
      "Epoch 58/60\n",
      "68/68 [==============================] - 9s 127ms/step - loss: 0.0750 - accuracy: 0.9700 - val_loss: 0.7292 - val_accuracy: 0.8798\n",
      "Epoch 59/60\n",
      "68/68 [==============================] - 9s 126ms/step - loss: 0.0676 - accuracy: 0.9714 - val_loss: 0.7655 - val_accuracy: 0.8814\n",
      "Epoch 60/60\n",
      "68/68 [==============================] - 9s 127ms/step - loss: 0.0629 - accuracy: 0.9731 - val_loss: 0.8094 - val_accuracy: 0.8828\n"
     ]
    }
   ],
   "source": [
    "history = model.fit(\n",
    "    Pad_train, y_train,\n",
    "    epochs = 60,\n",
    "    batch_size = 256,\n",
    "    validation_data = (Pad_test, y_test),\n",
    "    verbose = 1,\n",
    ")"
   ]
  },
  {
   "cell_type": "code",
   "execution_count": 20,
   "id": "b5e46741",
   "metadata": {},
   "outputs": [],
   "source": [
    "import matplotlib.pyplot as plt"
   ]
  },
  {
   "cell_type": "code",
   "execution_count": 21,
   "id": "65673c59",
   "metadata": {},
   "outputs": [
    {
     "data": {
      "image/png": "[encoded data removed]",
      "text/plain": [
       "<Figure size 432x288 with 1 Axes>"
      ]
     },
     "metadata": {
      "needs_background": "light"
     },
     "output_type": "display_data"
    },
    {
     "data": {
      "image/png": "[encoded data removed]",
      "text/plain": [
       "<Figure size 432x288 with 1 Axes>"
      ]
     },
     "metadata": {
      "needs_background": "light"
     },
     "output_type": "display_data"
    }
   ],
   "source": [
    "plt.figure(figsize=(6,4))\n",
    "plt.plot(history.history['accuracy'])\n",
    "plt.plot(history.history['val_accuracy'])\n",
    "plt.title('Accuracy')\n",
    "plt.ylabel('accuracy')\n",
    "plt.xlabel('epoch')\n",
    "plt.legend(['train', 'Validation'], loc='upper left')\n",
    "plt.show()\n",
    "\n",
    "plt.figure(figsize=(6,4))\n",
    "plt.plot(history.history['loss'])\n",
    "plt.plot(history.history['val_loss'])\n",
    "plt.title('Loss')\n",
    "plt.ylabel('Loss')\n",
    "plt.xlabel('epoch')\n",
    "plt.legend(['train', 'Validation'], loc='upper left')\n",
    "plt.show()"
   ]
  },
  {
   "cell_type": "code",
   "execution_count": null,
   "id": "0cb9fdf6",
   "metadata": {},
   "outputs": [],
   "source": []
  }
 ],
 "metadata": {
  "kernelspec": {
   "display_name": "Python 3 (ipykernel)",
   "language": "python",
   "name": "python3"
  },
  "language_info": {
   "codemirror_mode": {
    "name": "ipython",
    "version": 3
   },
   "file_extension": ".py",
   "mimetype": "text/x-python",
   "name": "python",
   "nbconvert_exporter": "python",
   "pygments_lexer": "ipython3",
   "version": "3.9.12"
  }
 },
 "nbformat": 4,
 "nbformat_minor": 5
}
