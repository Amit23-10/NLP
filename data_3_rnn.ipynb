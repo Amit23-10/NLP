{
 "cells": [
  {
   "cell_type": "code",
   "execution_count": 14,
   "id": "eb718e9c",
   "metadata": {},
   "outputs": [],
   "source": [
    "import numpy as np # linear algebra\n",
    "import pandas as pd # data processing, CSV file I/O (e.g. pd.read_csv)"
   ]
  },
  {
   "cell_type": "code",
   "execution_count": 15,
   "id": "ec6cd065",
   "metadata": {},
   "outputs": [],
   "source": [
    "import re\n",
    "import nltk\n",
    "from nltk.corpus import stopwords\n",
    "\n",
    "from numpy import array\n",
    "from keras.preprocessing.text import one_hot\n",
    "from tensorflow.keras.preprocessing.sequence import pad_sequences\n",
    "from keras.models import Sequential\n",
    "from keras.layers.core import Activation, Dropout, Dense\n",
    "from keras.layers import Flatten, GlobalMaxPooling1D\n",
    "# from keras.layers.embeddings import Embedding\n",
    "from sklearn.model_selection import train_test_split\n",
    "import tensorflow as tf\n",
    "from tensorflow.keras.preprocessing.text import Tokenizer"
   ]
  },
  {
   "cell_type": "code",
   "execution_count": 16,
   "id": "2089d36a",
   "metadata": {},
   "outputs": [
    {
     "data": {
      "text/plain": [
       "(11807, 2)"
      ]
     },
     "execution_count": 16,
     "metadata": {},
     "output_type": "execute_result"
    }
   ],
   "source": [
    "reviews = pd.read_csv(\"D:\\\\archive_19\\\\Bengali Review Dataset.csv\")\n",
    "\n",
    "reviews.shape"
   ]
  },
  {
   "cell_type": "code",
   "execution_count": 17,
   "id": "7136d56d",
   "metadata": {},
   "outputs": [
    {
     "data": {
      "text/html": [
       "<div>\n",
       "<style scoped>\n",
       "    .dataframe tbody tr th:only-of-type {\n",
       "        vertical-align: middle;\n",
       "    }\n",
       "\n",
       "    .dataframe tbody tr th {\n",
       "        vertical-align: top;\n",
       "    }\n",
       "\n",
       "    .dataframe thead th {\n",
       "        text-align: right;\n",
       "    }\n",
       "</style>\n",
       "<table border=\"1\" class=\"dataframe\">\n",
       "  <thead>\n",
       "    <tr style=\"text-align: right;\">\n",
       "      <th></th>\n",
       "      <th>Reviews</th>\n",
       "      <th>Sentiment</th>\n",
       "    </tr>\n",
       "  </thead>\n",
       "  <tbody>\n",
       "    <tr>\n",
       "      <th>0</th>\n",
       "      <td>অসাধারণ নিশো বস্ আর অমি ভাইকেও।</td>\n",
       "      <td>positive</td>\n",
       "    </tr>\n",
       "    <tr>\n",
       "      <th>1</th>\n",
       "      <td>\"এত মোটা বাশ নিতে পারছি না বাবা \"</td>\n",
       "      <td>negative</td>\n",
       "    </tr>\n",
       "    <tr>\n",
       "      <th>2</th>\n",
       "      <td>নাটক আসলেই অসাধারণ</td>\n",
       "      <td>positive</td>\n",
       "    </tr>\n",
       "    <tr>\n",
       "      <th>3</th>\n",
       "      <td>ফালতু একটা নাটক</td>\n",
       "      <td>negative</td>\n",
       "    </tr>\n",
       "    <tr>\n",
       "      <th>4</th>\n",
       "      <td>ধুমপান সাস্থর জন্য ক্ষতিকর।</td>\n",
       "      <td>negative</td>\n",
       "    </tr>\n",
       "  </tbody>\n",
       "</table>\n",
       "</div>"
      ],
      "text/plain": [
       "                              Reviews Sentiment\n",
       "0     অসাধারণ নিশো বস্ আর অমি ভাইকেও।  positive\n",
       "1   \"এত মোটা বাশ নিতে পারছি না বাবা \"  negative\n",
       "2                  নাটক আসলেই অসাধারণ  positive\n",
       "3                     ফালতু একটা নাটক  negative\n",
       "4         ধুমপান সাস্থর জন্য ক্ষতিকর।  negative"
      ]
     },
     "execution_count": 17,
     "metadata": {},
     "output_type": "execute_result"
    }
   ],
   "source": [
    "reviews.head()"
   ]
  },
  {
   "cell_type": "code",
   "execution_count": 18,
   "id": "2f19f2ee",
   "metadata": {},
   "outputs": [
    {
     "data": {
      "text/plain": [
       "<AxesSubplot:xlabel='Sentiment', ylabel='count'>"
      ]
     },
     "execution_count": 18,
     "metadata": {},
     "output_type": "execute_result"
    },
    {
     "data": {
      "image/png": "[encoded data removed]",
      "text/plain": [
       "<Figure size 432x288 with 1 Axes>"
      ]
     },
     "metadata": {
      "needs_background": "light"
     },
     "output_type": "display_data"
    }
   ],
   "source": [
    "import seaborn as sns\n",
    "sns.countplot(x = 'Sentiment', data = reviews)"
   ]
  },
  {
   "cell_type": "code",
   "execution_count": 20,
   "id": "cb71dc6a",
   "metadata": {},
   "outputs": [],
   "source": [
    "X = reviews['Reviews'].to_numpy()"
   ]
  },
  {
   "cell_type": "code",
   "execution_count": 21,
   "id": "f4f823a5",
   "metadata": {},
   "outputs": [
    {
     "data": {
      "text/plain": [
       "array([' অসাধারণ নিশো বস্ আর অমি ভাইকেও।',\n",
       "       ' \"এত মোটা বাশ নিতে পারছি না বাবা \"', ' নাটক আসলেই অসাধারণ', ...,\n",
       "       ' ভাই আপনাদের এত স্পন্সর দরকার তাহলে Youtube নাটক দিছেন কেন ? নাটক ভালো ছিল But দেখে শান্তি পাইলাম না',\n",
       "       'এগুলো কি নাটক না কি', ' অনেক বেশি ভালো লাগল'], dtype=object)"
      ]
     },
     "execution_count": 21,
     "metadata": {},
     "output_type": "execute_result"
    }
   ],
   "source": [
    "X"
   ]
  },
  {
   "cell_type": "code",
   "execution_count": 22,
   "id": "5d151a61",
   "metadata": {},
   "outputs": [],
   "source": [
    "y = np.array(list(map(lambda x: 1 if x == \"positive\" else 0, reviews['Sentiment'])))"
   ]
  },
  {
   "cell_type": "code",
   "execution_count": 23,
   "id": "8db3171d",
   "metadata": {},
   "outputs": [
    {
     "data": {
      "text/plain": [
       "array([1, 0, 1, ..., 1, 0, 1])"
      ]
     },
     "execution_count": 23,
     "metadata": {},
     "output_type": "execute_result"
    }
   ],
   "source": [
    "y"
   ]
  },
  {
   "cell_type": "code",
   "execution_count": 24,
   "id": "c8d93d9b",
   "metadata": {},
   "outputs": [],
   "source": [
    "X_train, X_test, y_train, y_test = train_test_split(X, y,test_size = 0.10, random_state = 42)"
   ]
  },
  {
   "cell_type": "code",
   "execution_count": 25,
   "id": "38c3b814",
   "metadata": {},
   "outputs": [],
   "source": [
    "vocab_size = 10000\n",
    "embedding_dim = 16\n",
    "max_length = 120\n",
    "trunc_type = 'post'\n",
    "oov_tok = '<OOV>'\n",
    "padding_type = 'post'"
   ]
  },
  {
   "cell_type": "code",
   "execution_count": 26,
   "id": "aea7edd7",
   "metadata": {},
   "outputs": [],
   "source": [
    "tokenizer = Tokenizer(num_words=vocab_size)\n",
    "tokenizer.fit_on_texts(X_train)\n",
    "word_index = tokenizer.word_index"
   ]
  },
  {
   "cell_type": "code",
   "execution_count": 28,
   "id": "a5cba4ac",
   "metadata": {},
   "outputs": [],
   "source": [
    "sequences = tokenizer.texts_to_sequences(X_train)\n",
    "padded = pad_sequences(sequences, maxlen=max_length, truncating=trunc_type)\n",
    "testing_sentences = tokenizer.texts_to_sequences(X_test)\n",
    "testing_padded = pad_sequences(testing_sentences, maxlen=max_length)"
   ]
  },
  {
   "cell_type": "code",
   "execution_count": 55,
   "id": "3c22b916",
   "metadata": {},
   "outputs": [],
   "source": [
    "from tensorflow.keras import Sequential\n",
    "from tensorflow.keras.layers import Embedding, Dense, Dropout, BatchNormalization, Flatten, LSTM,Conv1D,MaxPooling1D\n",
    "from tensorflow.keras.callbacks import Callback, ReduceLROnPlateau\n",
    "from tensorflow.keras.optimizers import Adam\n",
    "from tensorflow.keras.layers import Dense, LSTM, Embedding, Dropout, Activation, Flatten, Input, concatenate, Conv1D, GlobalMaxPooling1D,SimpleRNN"
   ]
  },
  {
   "cell_type": "code",
   "execution_count": 56,
   "id": "d8e72b1a",
   "metadata": {},
   "outputs": [],
   "source": [
    "model = Sequential()\n",
    "model.add(Embedding(vocab_size, embedding_dim, input_length=max_length)),\n",
    "model.add(SimpleRNN(128,activation='relu'))\n",
    "model.add (Dropout(0.3))\n",
    "model.add(Dense(64,activation='relu'))\n",
    "model.add (Dropout(0.3))\n",
    "model.add(Dense(32,activation='relu'))\n",
    "model.add (Dropout(0.3))\n",
    "model.add(Dense(16,activation='relu'))\n",
    "model.add (Dropout(0.3))\n",
    "model.add(Dense(1))\n",
    "model.add(Activation('sigmoid'))"
   ]
  },
  {
   "cell_type": "code",
   "execution_count": 57,
   "id": "7e79f3d7",
   "metadata": {},
   "outputs": [],
   "source": [
    "model.compile(loss='binary_crossentropy', optimizer='adam', metrics=['accuracy'])"
   ]
  },
  {
   "cell_type": "code",
   "execution_count": 58,
   "id": "dc61ec42",
   "metadata": {},
   "outputs": [
    {
     "name": "stdout",
     "output_type": "stream",
     "text": [
      "Model: \"sequential_4\"\n",
      "_________________________________________________________________\n",
      " Layer (type)                Output Shape              Param #   \n",
      "=================================================================\n",
      " embedding_4 (Embedding)     (None, 120, 16)           160000    \n",
      "                                                                 \n",
      " simple_rnn (SimpleRNN)      (None, 128)               18560     \n",
      "                                                                 \n",
      " dropout_13 (Dropout)        (None, 128)               0         \n",
      "                                                                 \n",
      " dense_9 (Dense)             (None, 64)                8256      \n",
      "                                                                 \n",
      " dropout_14 (Dropout)        (None, 64)                0         \n",
      "                                                                 \n",
      " dense_10 (Dense)            (None, 32)                2080      \n",
      "                                                                 \n",
      " dropout_15 (Dropout)        (None, 32)                0         \n",
      "                                                                 \n",
      " dense_11 (Dense)            (None, 16)                528       \n",
      "                                                                 \n",
      " dropout_16 (Dropout)        (None, 16)                0         \n",
      "                                                                 \n",
      " dense_12 (Dense)            (None, 1)                 17        \n",
      "                                                                 \n",
      " activation_3 (Activation)   (None, 1)                 0         \n",
      "                                                                 \n",
      "=================================================================\n",
      "Total params: 189,441\n",
      "Trainable params: 189,441\n",
      "Non-trainable params: 0\n",
      "_________________________________________________________________\n"
     ]
    }
   ],
   "source": [
    "model.summary()"
   ]
  },
  {
   "cell_type": "code",
   "execution_count": 59,
   "id": "9b9bc6bd",
   "metadata": {},
   "outputs": [],
   "source": [
    "training_labels_final = np.array(y_train)\n",
    "testing_labels_final = np.array(y_test)"
   ]
  },
  {
   "cell_type": "code",
   "execution_count": 60,
   "id": "e2f9fc89",
   "metadata": {
    "scrolled": true
   },
   "outputs": [
    {
     "name": "stdout",
     "output_type": "stream",
     "text": [
      "Epoch 1/60\n",
      "333/333 [==============================] - 5s 14ms/step - loss: 2.3545 - accuracy: 0.7486 - val_loss: 0.2894 - val_accuracy: 0.8916\n",
      "Epoch 2/60\n",
      "333/333 [==============================] - 4s 13ms/step - loss: 0.2111 - accuracy: 0.9278 - val_loss: 0.2045 - val_accuracy: 0.9289\n",
      "Epoch 3/60\n",
      "333/333 [==============================] - 4s 13ms/step - loss: 0.1078 - accuracy: 0.9689 - val_loss: 0.2014 - val_accuracy: 0.9365\n",
      "Epoch 4/60\n",
      "333/333 [==============================] - 4s 13ms/step - loss: 0.0639 - accuracy: 0.9816 - val_loss: 0.1993 - val_accuracy: 0.9373\n",
      "Epoch 5/60\n",
      "333/333 [==============================] - 4s 13ms/step - loss: 25.7916 - accuracy: 0.9690 - val_loss: 0.2134 - val_accuracy: 0.9280\n",
      "Epoch 6/60\n",
      "333/333 [==============================] - 4s 13ms/step - loss: 53.0188 - accuracy: 0.9530 - val_loss: 0.2352 - val_accuracy: 0.9297\n",
      "Epoch 7/60\n",
      "333/333 [==============================] - 4s 13ms/step - loss: 0.0465 - accuracy: 0.9884 - val_loss: 108.7353 - val_accuracy: 0.9365\n",
      "Epoch 8/60\n",
      "333/333 [==============================] - 4s 13ms/step - loss: 92.0468 - accuracy: 0.9119 - val_loss: 0.2640 - val_accuracy: 0.9111\n",
      "Epoch 9/60\n",
      "333/333 [==============================] - 4s 13ms/step - loss: 0.1130 - accuracy: 0.9683 - val_loss: 0.2571 - val_accuracy: 0.9246\n",
      "Epoch 10/60\n",
      "333/333 [==============================] - 4s 13ms/step - loss: 0.0627 - accuracy: 0.9827 - val_loss: 0.2519 - val_accuracy: 0.9272\n",
      "Epoch 11/60\n",
      "333/333 [==============================] - 4s 13ms/step - loss: 0.0428 - accuracy: 0.9888 - val_loss: 0.3490 - val_accuracy: 0.9009\n",
      "Epoch 12/60\n",
      "333/333 [==============================] - 4s 13ms/step - loss: 0.0604 - accuracy: 0.9833 - val_loss: 0.3205 - val_accuracy: 0.9179\n",
      "Epoch 13/60\n",
      "333/333 [==============================] - 4s 13ms/step - loss: 0.0362 - accuracy: 0.9909 - val_loss: 0.3011 - val_accuracy: 0.9373\n",
      "Epoch 14/60\n",
      "333/333 [==============================] - 4s 13ms/step - loss: 0.0283 - accuracy: 0.9935 - val_loss: 0.3303 - val_accuracy: 0.9373\n",
      "Epoch 15/60\n",
      "333/333 [==============================] - 4s 13ms/step - loss: 0.0351 - accuracy: 0.9905 - val_loss: 0.3195 - val_accuracy: 0.9314\n",
      "Epoch 16/60\n",
      "333/333 [==============================] - 4s 13ms/step - loss: 0.0218 - accuracy: 0.9949 - val_loss: 0.3387 - val_accuracy: 0.9289\n",
      "Epoch 17/60\n",
      "333/333 [==============================] - 4s 13ms/step - loss: 0.2932 - accuracy: 0.9654 - val_loss: 0.3411 - val_accuracy: 0.9077\n",
      "Epoch 18/60\n",
      "333/333 [==============================] - 4s 13ms/step - loss: 0.0624 - accuracy: 0.9810 - val_loss: 0.3407 - val_accuracy: 0.9204\n",
      "Epoch 19/60\n",
      "333/333 [==============================] - 4s 13ms/step - loss: 0.0299 - accuracy: 0.9917 - val_loss: 0.3437 - val_accuracy: 0.9348\n",
      "Epoch 20/60\n",
      "333/333 [==============================] - 4s 13ms/step - loss: 5.3753 - accuracy: 0.9514 - val_loss: 0.3139 - val_accuracy: 0.8713\n",
      "Epoch 21/60\n",
      "333/333 [==============================] - 4s 13ms/step - loss: 0.1325 - accuracy: 0.9588 - val_loss: 0.2833 - val_accuracy: 0.9128\n",
      "Epoch 22/60\n",
      "333/333 [==============================] - 4s 13ms/step - loss: 0.0660 - accuracy: 0.9831 - val_loss: 0.2951 - val_accuracy: 0.9102\n",
      "Epoch 23/60\n",
      "333/333 [==============================] - 4s 13ms/step - loss: 0.0369 - accuracy: 0.9901 - val_loss: 0.3259 - val_accuracy: 0.9162\n",
      "Epoch 24/60\n",
      "333/333 [==============================] - 4s 13ms/step - loss: 0.0486 - accuracy: 0.9889 - val_loss: 0.3325 - val_accuracy: 0.9128\n",
      "Epoch 25/60\n",
      "333/333 [==============================] - 4s 13ms/step - loss: 0.0347 - accuracy: 0.9917 - val_loss: 0.3676 - val_accuracy: 0.9111\n",
      "Epoch 26/60\n",
      "333/333 [==============================] - 4s 13ms/step - loss: 0.0261 - accuracy: 0.9936 - val_loss: 0.3800 - val_accuracy: 0.9102\n",
      "Epoch 27/60\n",
      "333/333 [==============================] - 4s 13ms/step - loss: 0.0206 - accuracy: 0.9954 - val_loss: 0.3962 - val_accuracy: 0.9111\n",
      "Epoch 28/60\n",
      "333/333 [==============================] - 4s 13ms/step - loss: 1.2406 - accuracy: 0.9890 - val_loss: 0.4179 - val_accuracy: 0.8959\n",
      "Epoch 29/60\n",
      "333/333 [==============================] - 4s 13ms/step - loss: 0.0350 - accuracy: 0.9911 - val_loss: 0.3584 - val_accuracy: 0.9196\n",
      "Epoch 30/60\n",
      "333/333 [==============================] - 4s 13ms/step - loss: 0.0246 - accuracy: 0.9940 - val_loss: 0.3860 - val_accuracy: 0.9213\n",
      "Epoch 31/60\n",
      "333/333 [==============================] - 4s 13ms/step - loss: 0.0196 - accuracy: 0.9960 - val_loss: 0.4050 - val_accuracy: 0.9246\n",
      "Epoch 32/60\n",
      "333/333 [==============================] - 4s 13ms/step - loss: 0.0179 - accuracy: 0.9960 - val_loss: 0.4195 - val_accuracy: 0.9255\n",
      "Epoch 33/60\n",
      "333/333 [==============================] - 4s 13ms/step - loss: 0.0167 - accuracy: 0.9960 - val_loss: 0.4245 - val_accuracy: 0.9221\n",
      "Epoch 34/60\n",
      "333/333 [==============================] - 4s 13ms/step - loss: 0.0134 - accuracy: 0.9971 - val_loss: 0.4412 - val_accuracy: 0.9221\n",
      "Epoch 35/60\n",
      "333/333 [==============================] - 4s 13ms/step - loss: 0.0131 - accuracy: 0.9964 - val_loss: 0.4771 - val_accuracy: 0.9246\n",
      "Epoch 36/60\n",
      "333/333 [==============================] - 4s 13ms/step - loss: 0.0116 - accuracy: 0.9965 - val_loss: 0.5117 - val_accuracy: 0.9221\n",
      "Epoch 37/60\n",
      "333/333 [==============================] - 5s 14ms/step - loss: 0.0126 - accuracy: 0.9963 - val_loss: 0.5046 - val_accuracy: 0.9246\n",
      "Epoch 38/60\n",
      "333/333 [==============================] - 4s 13ms/step - loss: 0.0109 - accuracy: 0.9971 - val_loss: 0.5407 - val_accuracy: 0.9229\n",
      "Epoch 39/60\n",
      "333/333 [==============================] - 4s 13ms/step - loss: 0.0103 - accuracy: 0.9971 - val_loss: 0.5406 - val_accuracy: 0.9196\n",
      "Epoch 40/60\n",
      "333/333 [==============================] - 4s 13ms/step - loss: 0.0090 - accuracy: 0.9974 - val_loss: 0.5931 - val_accuracy: 0.9229\n",
      "Epoch 41/60\n",
      "333/333 [==============================] - 4s 13ms/step - loss: 0.0071 - accuracy: 0.9982 - val_loss: 0.6139 - val_accuracy: 0.9263\n",
      "Epoch 42/60\n",
      "333/333 [==============================] - 4s 13ms/step - loss: 0.0080 - accuracy: 0.9976 - val_loss: 0.7366 - val_accuracy: 0.9314\n",
      "Epoch 43/60\n",
      "333/333 [==============================] - 4s 13ms/step - loss: 0.0099 - accuracy: 0.9968 - val_loss: 0.6321 - val_accuracy: 0.9213\n",
      "Epoch 44/60\n",
      "333/333 [==============================] - 4s 13ms/step - loss: 0.3324 - accuracy: 0.9783 - val_loss: 0.3888 - val_accuracy: 0.8789\n",
      "Epoch 45/60\n",
      "333/333 [==============================] - 4s 13ms/step - loss: 0.0699 - accuracy: 0.9761 - val_loss: 0.3905 - val_accuracy: 0.9238\n",
      "Epoch 46/60\n",
      "333/333 [==============================] - 4s 13ms/step - loss: 0.0196 - accuracy: 0.9944 - val_loss: 0.4529 - val_accuracy: 0.9246\n",
      "Epoch 47/60\n",
      "333/333 [==============================] - 4s 13ms/step - loss: 0.0273 - accuracy: 0.9939 - val_loss: 0.6476 - val_accuracy: 0.8908\n",
      "Epoch 48/60\n",
      "333/333 [==============================] - 4s 13ms/step - loss: 0.0483 - accuracy: 0.9845 - val_loss: 0.4440 - val_accuracy: 0.9229\n",
      "Epoch 49/60\n",
      "333/333 [==============================] - 4s 13ms/step - loss: 0.0119 - accuracy: 0.9967 - val_loss: 0.5065 - val_accuracy: 0.9272\n",
      "Epoch 50/60\n",
      "333/333 [==============================] - 4s 13ms/step - loss: 0.0082 - accuracy: 0.9976 - val_loss: 0.5584 - val_accuracy: 0.9289\n",
      "Epoch 51/60\n",
      "333/333 [==============================] - 4s 13ms/step - loss: 0.0090 - accuracy: 0.9973 - val_loss: 0.5872 - val_accuracy: 0.9213\n",
      "Epoch 52/60\n",
      "333/333 [==============================] - 4s 13ms/step - loss: 0.0077 - accuracy: 0.9979 - val_loss: 0.6584 - val_accuracy: 0.9280\n",
      "Epoch 53/60\n",
      "333/333 [==============================] - 4s 13ms/step - loss: 0.0132 - accuracy: 0.9966 - val_loss: 0.6638 - val_accuracy: 0.9077\n",
      "Epoch 54/60\n",
      "333/333 [==============================] - 4s 13ms/step - loss: 0.0207 - accuracy: 0.9947 - val_loss: 0.5330 - val_accuracy: 0.9086\n",
      "Epoch 55/60\n",
      "333/333 [==============================] - 4s 13ms/step - loss: 0.0111 - accuracy: 0.9965 - val_loss: 0.5858 - val_accuracy: 0.9145\n",
      "Epoch 56/60\n",
      "333/333 [==============================] - 4s 13ms/step - loss: 0.0077 - accuracy: 0.9974 - val_loss: 0.6861 - val_accuracy: 0.9221\n",
      "Epoch 57/60\n",
      "333/333 [==============================] - 4s 13ms/step - loss: 0.0071 - accuracy: 0.9971 - val_loss: 0.6404 - val_accuracy: 0.9221\n",
      "Epoch 58/60\n",
      "333/333 [==============================] - 4s 13ms/step - loss: 0.0071 - accuracy: 0.9976 - val_loss: 0.6727 - val_accuracy: 0.9289\n",
      "Epoch 59/60\n",
      "333/333 [==============================] - 4s 13ms/step - loss: 0.0056 - accuracy: 0.9982 - val_loss: 0.6905 - val_accuracy: 0.9221\n",
      "Epoch 60/60\n",
      "333/333 [==============================] - 4s 13ms/step - loss: 0.0057 - accuracy: 0.9977 - val_loss: 0.7186 - val_accuracy: 0.9246\n"
     ]
    }
   ],
   "source": [
    "\n",
    "history = model.fit(padded, training_labels_final, epochs=60, validation_data=(testing_padded, testing_labels_final))"
   ]
  },
  {
   "cell_type": "code",
   "execution_count": 61,
   "id": "9dd4c069",
   "metadata": {},
   "outputs": [
    {
     "data": {
      "image/png": "[encoded data removed]",
      "text/plain": [
       "<Figure size 432x288 with 1 Axes>"
      ]
     },
     "metadata": {
      "needs_background": "light"
     },
     "output_type": "display_data"
    },
    {
     "data": {
      "image/png": "[encoded data removed]",
      "text/plain": [
       "<Figure size 432x288 with 1 Axes>"
      ]
     },
     "metadata": {
      "needs_background": "light"
     },
     "output_type": "display_data"
    }
   ],
   "source": [
    "plt.figure(figsize=(6,4))\n",
    "plt.plot(history.history['accuracy'])\n",
    "plt.plot(history.history['val_accuracy'])\n",
    "plt.title('Accuracy')\n",
    "plt.ylabel('accuracy')\n",
    "plt.xlabel('epoch')\n",
    "plt.legend(['train', 'Validation'], loc='upper left')\n",
    "plt.show()\n",
    "\n",
    "plt.figure(figsize=(6,4))\n",
    "plt.plot(history.history['loss'])\n",
    "plt.plot(history.history['val_loss'])\n",
    "plt.title('Loss')\n",
    "plt.ylabel('Loss')\n",
    "plt.xlabel('epoch')\n",
    "plt.legend(['train', 'Validation'], loc='upper left')\n",
    "plt.show()"
   ]
  },
  {
   "cell_type": "code",
   "execution_count": null,
   "id": "ebb6615b",
   "metadata": {},
   "outputs": [],
   "source": []
  }
 ],
 "metadata": {
  "kernelspec": {
   "display_name": "Python 3 (ipykernel)",
   "language": "python",
   "name": "python3"
  },
  "language_info": {
   "codemirror_mode": {
    "name": "ipython",
    "version": 3
   },
   "file_extension": ".py",
   "mimetype": "text/x-python",
   "name": "python",
   "nbconvert_exporter": "python",
   "pygments_lexer": "ipython3",
   "version": "3.9.12"
  }
 },
 "nbformat": 4,
 "nbformat_minor": 5
}
